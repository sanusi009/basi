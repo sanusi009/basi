{
 "cells": [
  {
   "cell_type": "code",
   "execution_count": 166,
   "id": "7fe9065e",
   "metadata": {},
   "outputs": [],
   "source": [
    "import warnings\n",
    "\n",
    "import matplotlib.pyplot as plt\n",
    "import numpy as np\n",
    "import pandas as pd\n",
    "import seaborn as sns\n",
    "import plotly.graph_objects as go\n",
    "import plotly.express as px\n",
    "from plotly.subplots import make_subplots\n",
    "from wordcloud import WordCloud\n",
    "\n",
    "\n",
    "from category_encoders import OneHotEncoder\n",
    "from category_encoders import OrdinalEncoder\n",
    "from sklearn.linear_model import LogisticRegression\n",
    "from sklearn.linear_model import LinearRegression, Ridge \n",
    "from sklearn.metrics import accuracy_score\n",
    "from sklearn.model_selection import train_test_split\n",
    "from sklearn.pipeline import Pipeline, make_pipeline\n",
    "from sklearn.metrics import mean_absolute_error\n",
    "from statsmodels.graphics.tsaplots import plot_acf, plot_pacf\n",
    "from statsmodels.tsa.ar_model import AutoReg\n",
    "from statsmodels.tsa.arima.model import ARIMA\n",
    "from sklearn.tree import DecisionTreeClassifier, plot_tree\n",
    "from sklearn.utils.validation import check_is_fitted\n",
    "\n",
    "warnings.simplefilter(action=\"ignore\", category=FutureWarning)"
   ]
  },
  {
   "cell_type": "code",
   "execution_count": 167,
   "id": "4b2ff527",
   "metadata": {},
   "outputs": [
    {
     "data": {
      "text/html": [
       "<div>\n",
       "<style scoped>\n",
       "    .dataframe tbody tr th:only-of-type {\n",
       "        vertical-align: middle;\n",
       "    }\n",
       "\n",
       "    .dataframe tbody tr th {\n",
       "        vertical-align: top;\n",
       "    }\n",
       "\n",
       "    .dataframe thead th {\n",
       "        text-align: right;\n",
       "    }\n",
       "</style>\n",
       "<table border=\"1\" class=\"dataframe\">\n",
       "  <thead>\n",
       "    <tr style=\"text-align: right;\">\n",
       "      <th></th>\n",
       "      <th>Car_Name</th>\n",
       "      <th>Year</th>\n",
       "      <th>Selling_Price</th>\n",
       "      <th>Present_Price</th>\n",
       "      <th>Kms_Driven</th>\n",
       "      <th>Fuel_Type</th>\n",
       "      <th>Seller_Type</th>\n",
       "      <th>Transmission</th>\n",
       "      <th>Owner</th>\n",
       "    </tr>\n",
       "  </thead>\n",
       "  <tbody>\n",
       "    <tr>\n",
       "      <th>0</th>\n",
       "      <td>ritz</td>\n",
       "      <td>2014</td>\n",
       "      <td>3.35</td>\n",
       "      <td>5.59</td>\n",
       "      <td>27000</td>\n",
       "      <td>Petrol</td>\n",
       "      <td>Dealer</td>\n",
       "      <td>Manual</td>\n",
       "      <td>0</td>\n",
       "    </tr>\n",
       "    <tr>\n",
       "      <th>1</th>\n",
       "      <td>sx4</td>\n",
       "      <td>2013</td>\n",
       "      <td>4.75</td>\n",
       "      <td>9.54</td>\n",
       "      <td>43000</td>\n",
       "      <td>Diesel</td>\n",
       "      <td>Dealer</td>\n",
       "      <td>Manual</td>\n",
       "      <td>0</td>\n",
       "    </tr>\n",
       "    <tr>\n",
       "      <th>2</th>\n",
       "      <td>ciaz</td>\n",
       "      <td>2017</td>\n",
       "      <td>7.25</td>\n",
       "      <td>9.85</td>\n",
       "      <td>6900</td>\n",
       "      <td>Petrol</td>\n",
       "      <td>Dealer</td>\n",
       "      <td>Manual</td>\n",
       "      <td>0</td>\n",
       "    </tr>\n",
       "    <tr>\n",
       "      <th>3</th>\n",
       "      <td>wagon r</td>\n",
       "      <td>2011</td>\n",
       "      <td>2.85</td>\n",
       "      <td>4.15</td>\n",
       "      <td>5200</td>\n",
       "      <td>Petrol</td>\n",
       "      <td>Dealer</td>\n",
       "      <td>Manual</td>\n",
       "      <td>0</td>\n",
       "    </tr>\n",
       "    <tr>\n",
       "      <th>4</th>\n",
       "      <td>swift</td>\n",
       "      <td>2014</td>\n",
       "      <td>4.60</td>\n",
       "      <td>6.87</td>\n",
       "      <td>42450</td>\n",
       "      <td>Diesel</td>\n",
       "      <td>Dealer</td>\n",
       "      <td>Manual</td>\n",
       "      <td>0</td>\n",
       "    </tr>\n",
       "  </tbody>\n",
       "</table>\n",
       "</div>"
      ],
      "text/plain": [
       "  Car_Name  Year  Selling_Price  Present_Price  Kms_Driven Fuel_Type  \\\n",
       "0     ritz  2014           3.35           5.59       27000    Petrol   \n",
       "1      sx4  2013           4.75           9.54       43000    Diesel   \n",
       "2     ciaz  2017           7.25           9.85        6900    Petrol   \n",
       "3  wagon r  2011           2.85           4.15        5200    Petrol   \n",
       "4    swift  2014           4.60           6.87       42450    Diesel   \n",
       "\n",
       "  Seller_Type Transmission  Owner  \n",
       "0      Dealer       Manual      0  \n",
       "1      Dealer       Manual      0  \n",
       "2      Dealer       Manual      0  \n",
       "3      Dealer       Manual      0  \n",
       "4      Dealer       Manual      0  "
      ]
     },
     "execution_count": 167,
     "metadata": {},
     "output_type": "execute_result"
    }
   ],
   "source": [
    "df = pd.read_csv(r\"C:\\Users\\User\\Desktop\\Bootfile\\car data.csv\")\n",
    "df.head()"
   ]
  },
  {
   "cell_type": "code",
   "execution_count": 168,
   "id": "b320cf0b",
   "metadata": {},
   "outputs": [
    {
     "name": "stdout",
     "output_type": "stream",
     "text": [
      "<class 'pandas.core.frame.DataFrame'>\n",
      "RangeIndex: 301 entries, 0 to 300\n",
      "Data columns (total 9 columns):\n",
      " #   Column         Non-Null Count  Dtype  \n",
      "---  ------         --------------  -----  \n",
      " 0   Car_Name       301 non-null    object \n",
      " 1   Year           301 non-null    int64  \n",
      " 2   Selling_Price  301 non-null    float64\n",
      " 3   Present_Price  301 non-null    float64\n",
      " 4   Kms_Driven     301 non-null    int64  \n",
      " 5   Fuel_Type      301 non-null    object \n",
      " 6   Seller_Type    301 non-null    object \n",
      " 7   Transmission   301 non-null    object \n",
      " 8   Owner          301 non-null    int64  \n",
      "dtypes: float64(2), int64(3), object(4)\n",
      "memory usage: 21.3+ KB\n"
     ]
    }
   ],
   "source": [
    "df.info()"
   ]
  },
  {
   "cell_type": "code",
   "execution_count": 169,
   "id": "ca98a3fe",
   "metadata": {},
   "outputs": [
    {
     "data": {
      "text/plain": [
       "(301, 9)"
      ]
     },
     "execution_count": 169,
     "metadata": {},
     "output_type": "execute_result"
    }
   ],
   "source": [
    "df.shape"
   ]
  },
  {
   "cell_type": "code",
   "execution_count": 170,
   "id": "cf747e19",
   "metadata": {},
   "outputs": [
    {
     "name": "stdout",
     "output_type": "stream",
     "text": [
      "nans shape: (9,)\n"
     ]
    },
    {
     "data": {
      "text/plain": [
       "Car_Name         0\n",
       "Year             0\n",
       "Selling_Price    0\n",
       "Present_Price    0\n",
       "Kms_Driven       0\n",
       "Fuel_Type        0\n",
       "Seller_Type      0\n",
       "Transmission     0\n",
       "Owner            0\n",
       "dtype: int64"
      ]
     },
     "execution_count": 170,
     "metadata": {},
     "output_type": "execute_result"
    }
   ],
   "source": [
    "nans =  pd.Series(df.isna().sum())\n",
    "print(\"nans shape:\", nans.shape)\n",
    "nans.head(10)"
   ]
  },
  {
   "cell_type": "code",
   "execution_count": 171,
   "id": "d7e66e7c",
   "metadata": {},
   "outputs": [
    {
     "data": {
      "text/plain": [
       "Car_Name           Year  Selling_Price  Present_Price  Kms_Driven  Fuel_Type  Seller_Type  Transmission  Owner\n",
       "fortuner           2015  23.00          30.61          40000       Diesel     Dealer       Automatic     0        2\n",
       "ertiga             2016  7.75           10.79          43000       Diesel     Dealer       Manual        0        2\n",
       "800                2003  0.35           2.28           127000      Petrol     Individual   Manual        0        1\n",
       "ertiga             2015  6.10           7.71           26000       Petrol     Dealer       Manual        0        1\n",
       "etios g            2014  4.75           6.76           40000       Petrol     Dealer       Manual        0        1\n",
       "                                                                                                                 ..\n",
       "Yamaha FZ S V 2.0  2015  0.55           0.84           58000       Petrol     Individual   Manual        0        1\n",
       "                         0.48           0.84           23000       Petrol     Individual   Manual        0        1\n",
       "Yamaha FZ S        2012  0.40           0.83           5500        Petrol     Individual   Manual        0        1\n",
       "Yamaha FZ 16       2015  0.75           0.82           18000       Petrol     Individual   Manual        0        1\n",
       "xcent              2017  5.75           7.13           12479       Petrol     Dealer       Manual        0        1\n",
       "Length: 299, dtype: int64"
      ]
     },
     "execution_count": 171,
     "metadata": {},
     "output_type": "execute_result"
    }
   ],
   "source": [
    "df.value_counts()"
   ]
  },
  {
   "cell_type": "code",
   "execution_count": 172,
   "id": "49ca5b60",
   "metadata": {},
   "outputs": [
    {
     "data": {
      "text/html": [
       "<div>\n",
       "<style scoped>\n",
       "    .dataframe tbody tr th:only-of-type {\n",
       "        vertical-align: middle;\n",
       "    }\n",
       "\n",
       "    .dataframe tbody tr th {\n",
       "        vertical-align: top;\n",
       "    }\n",
       "\n",
       "    .dataframe thead th {\n",
       "        text-align: right;\n",
       "    }\n",
       "</style>\n",
       "<table border=\"1\" class=\"dataframe\">\n",
       "  <thead>\n",
       "    <tr style=\"text-align: right;\">\n",
       "      <th></th>\n",
       "      <th>Year</th>\n",
       "      <th>Selling_Price</th>\n",
       "      <th>Present_Price</th>\n",
       "      <th>Kms_Driven</th>\n",
       "      <th>Owner</th>\n",
       "    </tr>\n",
       "  </thead>\n",
       "  <tbody>\n",
       "    <tr>\n",
       "      <th>count</th>\n",
       "      <td>301.000000</td>\n",
       "      <td>301.000000</td>\n",
       "      <td>301.000000</td>\n",
       "      <td>301.000000</td>\n",
       "      <td>301.000000</td>\n",
       "    </tr>\n",
       "    <tr>\n",
       "      <th>mean</th>\n",
       "      <td>2013.627907</td>\n",
       "      <td>4.661296</td>\n",
       "      <td>7.628472</td>\n",
       "      <td>36947.205980</td>\n",
       "      <td>0.043189</td>\n",
       "    </tr>\n",
       "    <tr>\n",
       "      <th>std</th>\n",
       "      <td>2.891554</td>\n",
       "      <td>5.082812</td>\n",
       "      <td>8.644115</td>\n",
       "      <td>38886.883882</td>\n",
       "      <td>0.247915</td>\n",
       "    </tr>\n",
       "    <tr>\n",
       "      <th>min</th>\n",
       "      <td>2003.000000</td>\n",
       "      <td>0.100000</td>\n",
       "      <td>0.320000</td>\n",
       "      <td>500.000000</td>\n",
       "      <td>0.000000</td>\n",
       "    </tr>\n",
       "    <tr>\n",
       "      <th>25%</th>\n",
       "      <td>2012.000000</td>\n",
       "      <td>0.900000</td>\n",
       "      <td>1.200000</td>\n",
       "      <td>15000.000000</td>\n",
       "      <td>0.000000</td>\n",
       "    </tr>\n",
       "    <tr>\n",
       "      <th>50%</th>\n",
       "      <td>2014.000000</td>\n",
       "      <td>3.600000</td>\n",
       "      <td>6.400000</td>\n",
       "      <td>32000.000000</td>\n",
       "      <td>0.000000</td>\n",
       "    </tr>\n",
       "    <tr>\n",
       "      <th>75%</th>\n",
       "      <td>2016.000000</td>\n",
       "      <td>6.000000</td>\n",
       "      <td>9.900000</td>\n",
       "      <td>48767.000000</td>\n",
       "      <td>0.000000</td>\n",
       "    </tr>\n",
       "    <tr>\n",
       "      <th>max</th>\n",
       "      <td>2018.000000</td>\n",
       "      <td>35.000000</td>\n",
       "      <td>92.600000</td>\n",
       "      <td>500000.000000</td>\n",
       "      <td>3.000000</td>\n",
       "    </tr>\n",
       "  </tbody>\n",
       "</table>\n",
       "</div>"
      ],
      "text/plain": [
       "              Year  Selling_Price  Present_Price     Kms_Driven       Owner\n",
       "count   301.000000     301.000000     301.000000     301.000000  301.000000\n",
       "mean   2013.627907       4.661296       7.628472   36947.205980    0.043189\n",
       "std       2.891554       5.082812       8.644115   38886.883882    0.247915\n",
       "min    2003.000000       0.100000       0.320000     500.000000    0.000000\n",
       "25%    2012.000000       0.900000       1.200000   15000.000000    0.000000\n",
       "50%    2014.000000       3.600000       6.400000   32000.000000    0.000000\n",
       "75%    2016.000000       6.000000       9.900000   48767.000000    0.000000\n",
       "max    2018.000000      35.000000      92.600000  500000.000000    3.000000"
      ]
     },
     "execution_count": 172,
     "metadata": {},
     "output_type": "execute_result"
    }
   ],
   "source": [
    "df.describe()"
   ]
  },
  {
   "cell_type": "code",
   "execution_count": 173,
   "id": "2290633f",
   "metadata": {
    "scrolled": true
   },
   "outputs": [
    {
     "data": {
      "image/png": "[encoded data removed]",
      "text/plain": [
       "<Figure size 1440x576 with 1 Axes>"
      ]
     },
     "metadata": {},
     "output_type": "display_data"
    }
   ],
   "source": [
    "text = \",\".join(Name for Name in df[\"Car_Name\"])\n",
    "wordcloud = WordCloud(width = 800, height = 250, \n",
    "            background_color =\"black\",colormap=\"RdYlGn\",max_font_size=100, stopwords =None,repeat= True).generate(text)\n",
    "plt.figure(figsize = (20, 8),facecolor= \"#254441\") \n",
    "plt.imshow(wordcloud)\n",
    "plt.axis(\"off\")\n",
    "plt.margins(x=0, y=0)\n",
    "plt.tight_layout(pad = 0) \n",
    "plt.show()"
   ]
  },
  {
   "cell_type": "code",
   "execution_count": 174,
   "id": "7c38441d",
   "metadata": {},
   "outputs": [
    {
     "data": {
      "image/png": "[encoded data removed]",
      "text/plain": [
       "<Figure size 432x288 with 1 Axes>"
      ]
     },
     "metadata": {
      "needs_background": "light"
     },
     "output_type": "display_data"
    }
   ],
   "source": [
    "plt.hist(df[\"Selling_Price\"])\n",
    "plt.xlabel(\"Price\")\n",
    "plt.title(\"Selling Price\");"
   ]
  },
  {
   "cell_type": "code",
   "execution_count": 175,
   "id": "c46078a5",
   "metadata": {},
   "outputs": [
    {
     "data": {
      "image/png": "[encoded data removed]",
      "text/plain": [
       "<Figure size 432x288 with 1 Axes>"
      ]
     },
     "metadata": {
      "needs_background": "light"
     },
     "output_type": "display_data"
    }
   ],
   "source": [
    "plt.hist(df[\"Present_Price\"])\n",
    "plt.xlabel(\"Price\")\n",
    "plt.title(\"Present Price\");"
   ]
  },
  {
   "cell_type": "code",
   "execution_count": 176,
   "id": "0674173e",
   "metadata": {},
   "outputs": [
    {
     "data": {
      "text/plain": [
       "count    301.000000\n",
       "mean       4.661296\n",
       "std        5.082812\n",
       "min        0.100000\n",
       "25%        0.900000\n",
       "50%        3.600000\n",
       "75%        6.000000\n",
       "max       35.000000\n",
       "Name: Selling_Price, dtype: float64"
      ]
     },
     "execution_count": 176,
     "metadata": {},
     "output_type": "execute_result"
    }
   ],
   "source": [
    "df.describe()[\"Selling_Price\"]"
   ]
  },
  {
   "cell_type": "code",
   "execution_count": 177,
   "id": "a425c988",
   "metadata": {
    "scrolled": true
   },
   "outputs": [
    {
     "data": {
      "text/plain": [
       "count    301.000000\n",
       "mean       7.628472\n",
       "std        8.644115\n",
       "min        0.320000\n",
       "25%        1.200000\n",
       "50%        6.400000\n",
       "75%        9.900000\n",
       "max       92.600000\n",
       "Name: Present_Price, dtype: float64"
      ]
     },
     "execution_count": 177,
     "metadata": {},
     "output_type": "execute_result"
    }
   ],
   "source": [
    "df.describe()[\"Present_Price\"]"
   ]
  },
  {
   "cell_type": "code",
   "execution_count": 178,
   "id": "539d369a",
   "metadata": {},
   "outputs": [
    {
     "data": {
      "image/png": "[encoded data removed]",
      "text/plain": [
       "<Figure size 432x288 with 2 Axes>"
      ]
     },
     "metadata": {
      "needs_background": "light"
     },
     "output_type": "display_data"
    }
   ],
   "source": [
    "corr = df.select_dtypes(\"number\").corr()\n",
    "sns.heatmap(corr);"
   ]
  },
  {
   "cell_type": "code",
   "execution_count": null,
   "id": "00402258",
   "metadata": {},
   "outputs": [],
   "source": []
  },
  {
   "cell_type": "markdown",
   "id": "8c2f083d",
   "metadata": {},
   "source": [
    "# Split Data"
   ]
  },
  {
   "cell_type": "code",
   "execution_count": 179,
   "id": "684d73fa",
   "metadata": {},
   "outputs": [
    {
     "name": "stdout",
     "output_type": "stream",
     "text": [
      "(301, 6)\n"
     ]
    },
    {
     "data": {
      "text/html": [
       "<div>\n",
       "<style scoped>\n",
       "    .dataframe tbody tr th:only-of-type {\n",
       "        vertical-align: middle;\n",
       "    }\n",
       "\n",
       "    .dataframe tbody tr th {\n",
       "        vertical-align: top;\n",
       "    }\n",
       "\n",
       "    .dataframe thead th {\n",
       "        text-align: right;\n",
       "    }\n",
       "</style>\n",
       "<table border=\"1\" class=\"dataframe\">\n",
       "  <thead>\n",
       "    <tr style=\"text-align: right;\">\n",
       "      <th></th>\n",
       "      <th>Present_Price</th>\n",
       "      <th>Kms_Driven</th>\n",
       "      <th>Fuel_Type</th>\n",
       "      <th>Seller_Type</th>\n",
       "      <th>Transmission</th>\n",
       "      <th>Owner</th>\n",
       "    </tr>\n",
       "  </thead>\n",
       "  <tbody>\n",
       "    <tr>\n",
       "      <th>0</th>\n",
       "      <td>5.59</td>\n",
       "      <td>27000</td>\n",
       "      <td>Petrol</td>\n",
       "      <td>Dealer</td>\n",
       "      <td>Manual</td>\n",
       "      <td>0</td>\n",
       "    </tr>\n",
       "    <tr>\n",
       "      <th>1</th>\n",
       "      <td>9.54</td>\n",
       "      <td>43000</td>\n",
       "      <td>Diesel</td>\n",
       "      <td>Dealer</td>\n",
       "      <td>Manual</td>\n",
       "      <td>0</td>\n",
       "    </tr>\n",
       "    <tr>\n",
       "      <th>2</th>\n",
       "      <td>9.85</td>\n",
       "      <td>6900</td>\n",
       "      <td>Petrol</td>\n",
       "      <td>Dealer</td>\n",
       "      <td>Manual</td>\n",
       "      <td>0</td>\n",
       "    </tr>\n",
       "    <tr>\n",
       "      <th>3</th>\n",
       "      <td>4.15</td>\n",
       "      <td>5200</td>\n",
       "      <td>Petrol</td>\n",
       "      <td>Dealer</td>\n",
       "      <td>Manual</td>\n",
       "      <td>0</td>\n",
       "    </tr>\n",
       "    <tr>\n",
       "      <th>4</th>\n",
       "      <td>6.87</td>\n",
       "      <td>42450</td>\n",
       "      <td>Diesel</td>\n",
       "      <td>Dealer</td>\n",
       "      <td>Manual</td>\n",
       "      <td>0</td>\n",
       "    </tr>\n",
       "  </tbody>\n",
       "</table>\n",
       "</div>"
      ],
      "text/plain": [
       "   Present_Price  Kms_Driven Fuel_Type Seller_Type Transmission  Owner\n",
       "0           5.59       27000    Petrol      Dealer       Manual      0\n",
       "1           9.54       43000    Diesel      Dealer       Manual      0\n",
       "2           9.85        6900    Petrol      Dealer       Manual      0\n",
       "3           4.15        5200    Petrol      Dealer       Manual      0\n",
       "4           6.87       42450    Diesel      Dealer       Manual      0"
      ]
     },
     "execution_count": 179,
     "metadata": {},
     "output_type": "execute_result"
    }
   ],
   "source": [
    "features = [\"Present_Price\",\"Kms_Driven\", \"Fuel_Type\", \"Seller_Type\", \"Transmission\", \"Owner\"]\n",
    "X = df[features]\n",
    "print(X.shape)\n",
    "X.head()"
   ]
  },
  {
   "cell_type": "code",
   "execution_count": 180,
   "id": "f83fbc69",
   "metadata": {},
   "outputs": [],
   "source": [
    "assert X.shape == (301, 6), f\"`X_train` is the wrong size: {X.shape}.\""
   ]
  },
  {
   "cell_type": "code",
   "execution_count": 181,
   "id": "8edc18d3",
   "metadata": {},
   "outputs": [
    {
     "name": "stdout",
     "output_type": "stream",
     "text": [
      "(301,)\n"
     ]
    },
    {
     "data": {
      "text/plain": [
       "0    3.35\n",
       "1    4.75\n",
       "2    7.25\n",
       "3    2.85\n",
       "4    4.60\n",
       "Name: Selling_Price, dtype: float64"
      ]
     },
     "execution_count": 181,
     "metadata": {},
     "output_type": "execute_result"
    }
   ],
   "source": [
    "target = \"Selling_Price\"\n",
    "y = df[target]\n",
    "print(y.shape)\n",
    "y.head()"
   ]
  },
  {
   "cell_type": "code",
   "execution_count": 182,
   "id": "ac01c114",
   "metadata": {},
   "outputs": [],
   "source": [
    "assert y.shape == (301,), f\"`y_train` is the wrong size: {y.shape}.\""
   ]
  },
  {
   "cell_type": "markdown",
   "id": "6a017c85",
   "metadata": {},
   "source": [
    "# Build Model"
   ]
  },
  {
   "cell_type": "markdown",
   "id": "75a7ab7c",
   "metadata": {},
   "source": [
    "# Baseline"
   ]
  },
  {
   "cell_type": "code",
   "execution_count": 183,
   "id": "8e249e96",
   "metadata": {},
   "outputs": [
    {
     "name": "stdout",
     "output_type": "stream",
     "text": [
      "X_train shape: (240, 6)\n",
      "y_train shape: (240,)\n",
      "X_test shape: (61, 6)\n",
      "y_test shape: (61,)\n"
     ]
    }
   ],
   "source": [
    "X_train, X_test, y_train, y_test = train_test_split(\n",
    "    X, y, test_size = 0.2, random_state = 42\n",
    ")\n",
    "\n",
    "print(\"X_train shape:\", X_train.shape)\n",
    "print(\"y_train shape:\", y_train.shape)\n",
    "print(\"X_test shape:\", X_test.shape)\n",
    "print(\"y_test shape:\", y_test.shape)"
   ]
  },
  {
   "cell_type": "code",
   "execution_count": 184,
   "id": "62956560",
   "metadata": {},
   "outputs": [
    {
     "name": "stdout",
     "output_type": "stream",
     "text": [
      "Mean Reading: 4.64\n",
      "Baseline MAE: 3.45\n"
     ]
    }
   ],
   "source": [
    "y_mean = y_train.mean()\n",
    "y_pred_baseline =  [y_mean] * len(y_train)\n",
    "mae_baseline =  mean_absolute_error(y_train, y_pred_baseline)\n",
    "\n",
    "print(\"Mean Reading:\", round(y_train.mean(), 2))\n",
    "print(\"Baseline MAE:\", round(mae_baseline, 2))"
   ]
  },
  {
   "cell_type": "code",
   "execution_count": 185,
   "id": "41f50b5b",
   "metadata": {},
   "outputs": [
    {
     "data": {
      "text/plain": [
       "Pipeline(steps=[('onehotencoder',\n",
       "                 OneHotEncoder(cols=['Fuel_Type', 'Seller_Type',\n",
       "                                     'Transmission'],\n",
       "                               use_cat_names=True)),\n",
       "                ('linearregression', LinearRegression())])"
      ]
     },
     "execution_count": 185,
     "metadata": {},
     "output_type": "execute_result"
    }
   ],
   "source": [
    "# Build model\n",
    "model = make_pipeline(\n",
    "    OneHotEncoder(use_cat_names=True),\n",
    "    LinearRegression()\n",
    ")\n",
    "# Fit model to training data\n",
    "model.fit(X_train, y_train)"
   ]
  },
  {
   "cell_type": "code",
   "execution_count": null,
   "id": "b299b985",
   "metadata": {},
   "outputs": [],
   "source": [
    "\n"
   ]
  },
  {
   "cell_type": "code",
   "execution_count": 186,
   "id": "ea4b8f70",
   "metadata": {},
   "outputs": [],
   "source": [
    "# Check your work\n",
    "check_is_fitted(model[-1])"
   ]
  },
  {
   "cell_type": "code",
   "execution_count": 187,
   "id": "f40913ff",
   "metadata": {},
   "outputs": [],
   "source": [
    "model_predict =model.predict(X_train)"
   ]
  },
  {
   "cell_type": "code",
   "execution_count": 188,
   "id": "2520fe7d",
   "metadata": {},
   "outputs": [],
   "source": [
    "model_predictX=model.predict(X_test)"
   ]
  },
  {
   "cell_type": "code",
   "execution_count": 189,
   "id": "456ddcc1",
   "metadata": {},
   "outputs": [
    {
     "name": "stdout",
     "output_type": "stream",
     "text": [
      "Training MAE: 1.23\n",
      "Test MAE: 1.45\n"
     ]
    }
   ],
   "source": [
    "training_mae = mean_absolute_error(y_train, model_predict)\n",
    "test_mae = mean_absolute_error(y_test, model_predictX)\n",
    "print(\"Training MAE:\", round(training_mae, 2))\n",
    "print(\"Test MAE:\", round(test_mae, 2))"
   ]
  },
  {
   "cell_type": "code",
   "execution_count": null,
   "id": "34535551",
   "metadata": {},
   "outputs": [],
   "source": []
  },
  {
   "cell_type": "code",
   "execution_count": 190,
   "id": "bc3d39f9",
   "metadata": {},
   "outputs": [
    {
     "data": {
      "image/png": "[encoded data removed]",
      "text/plain": [
       "<Figure size 432x288 with 1 Axes>"
      ]
     },
     "metadata": {
      "needs_background": "light"
     },
     "output_type": "display_data"
    }
   ],
   "source": [
    "plt.scatter(y_train, model_predict)\n",
    "plt.xlabel(\"Actual Price\")\n",
    "plt.ylabel(\"Predicted Price\")\n",
    "plt.title(\" Actual Prices vs Predicted Prices\")\n",
    "plt.show()"
   ]
  },
  {
   "cell_type": "code",
   "execution_count": 191,
   "id": "ea0410ca",
   "metadata": {},
   "outputs": [
    {
     "data": {
      "image/png": "[encoded data removed]",
      "text/plain": [
       "<Figure size 432x288 with 1 Axes>"
      ]
     },
     "metadata": {
      "needs_background": "light"
     },
     "output_type": "display_data"
    }
   ],
   "source": [
    "plt.scatter(y_test, model_predictX)\n",
    "plt.xlabel(\"Actual Price\")\n",
    "plt.ylabel(\"Predicted Price\")\n",
    "plt.title(\" Actual Prices vs Predicted Prices\")\n",
    "plt.show()"
   ]
  },
  {
   "cell_type": "markdown",
   "id": "ac8c63b5",
   "metadata": {},
   "source": [
    "# Communicate Results"
   ]
  },
  {
   "cell_type": "code",
   "execution_count": 193,
   "id": "ad38de0c",
   "metadata": {},
   "outputs": [
    {
     "name": "stdout",
     "output_type": "stream",
     "text": [
      "3.0 [ 0. -0. -0.  2. -1. -1.  1. -1.  1. -1.]\n"
     ]
    }
   ],
   "source": [
    "intercept = model.named_steps[\"linearregression\"].intercept_.round()\n",
    "coefficients = model.named_steps[\"linearregression\"].coef_.round()\n",
    "print(intercept, coefficients)"
   ]
  },
  {
   "cell_type": "code",
   "execution_count": 194,
   "id": "a7932084",
   "metadata": {},
   "outputs": [],
   "source": [
    "# Build model\n",
    "model = make_pipeline(\n",
    "    OneHotEncoder(use_cat_names=True),\n",
    "    Ridge()\n",
    ")"
   ]
  },
  {
   "cell_type": "code",
   "execution_count": 195,
   "id": "eb16915e",
   "metadata": {},
   "outputs": [
    {
     "data": {
      "text/plain": [
       "Pipeline(steps=[('onehotencoder',\n",
       "                 OneHotEncoder(cols=['Fuel_Type', 'Seller_Type',\n",
       "                                     'Transmission'],\n",
       "                               use_cat_names=True)),\n",
       "                ('ridge', Ridge())])"
      ]
     },
     "execution_count": 195,
     "metadata": {},
     "output_type": "execute_result"
    }
   ],
   "source": [
    "# Fit model to training data\n",
    "model.fit(X_train, y_train)"
   ]
  },
  {
   "cell_type": "code",
   "execution_count": 196,
   "id": "030ab294",
   "metadata": {},
   "outputs": [],
   "source": [
    "# Check your work\n",
    "check_is_fitted(model[-1])"
   ]
  },
  {
   "cell_type": "code",
   "execution_count": 197,
   "id": "27abe1f5",
   "metadata": {},
   "outputs": [
    {
     "name": "stdout",
     "output_type": "stream",
     "text": [
      "Mean Reading: 4.64\n",
      "Baseline MAE: 3.45\n"
     ]
    }
   ],
   "source": [
    "y_mean = y_train.mean()\n",
    "y_pred_baseline =  [y_mean] * len(y_train)\n",
    "mae_baseline =  mean_absolute_error(y_train, y_pred_baseline)\n",
    "\n",
    "print(\"Mean Reading:\", round(y_train.mean(), 2))\n",
    "print(\"Baseline MAE:\", round(mae_baseline, 2))"
   ]
  },
  {
   "cell_type": "code",
   "execution_count": 198,
   "id": "76bd70d7",
   "metadata": {},
   "outputs": [],
   "source": [
    "model_p =model.predict(X_train)"
   ]
  },
  {
   "cell_type": "code",
   "execution_count": 199,
   "id": "182636d6",
   "metadata": {},
   "outputs": [],
   "source": [
    "model_pX=model.predict(X_test)"
   ]
  },
  {
   "cell_type": "code",
   "execution_count": 200,
   "id": "b2eaeb7b",
   "metadata": {},
   "outputs": [
    {
     "name": "stdout",
     "output_type": "stream",
     "text": [
      "Training MAE: 1.23\n",
      "Test MAE: 1.45\n"
     ]
    }
   ],
   "source": [
    "training_mae = mean_absolute_error(y_train, model_p)\n",
    "test_mae = mean_absolute_error(y_test, model_pX)\n",
    "print(\"Training MAE:\", round(training_mae, 2))\n",
    "print(\"Test MAE:\", round(test_mae, 2))"
   ]
  },
  {
   "cell_type": "code",
   "execution_count": 201,
   "id": "6ad29fd8",
   "metadata": {},
   "outputs": [
    {
     "data": {
      "image/png": "[encoded data removed]",
      "text/plain": [
       "<Figure size 432x288 with 1 Axes>"
      ]
     },
     "metadata": {
      "needs_background": "light"
     },
     "output_type": "display_data"
    }
   ],
   "source": [
    "plt.scatter(y_train,model_p)\n",
    "plt.xlabel(\"Actual Price\")\n",
    "plt.ylabel(\"Predicted Price\")\n",
    "plt.title(\" Actual Prices vs Predicted Prices\")\n",
    "plt.show()"
   ]
  },
  {
   "cell_type": "code",
   "execution_count": 202,
   "id": "94aece7a",
   "metadata": {},
   "outputs": [
    {
     "data": {
      "image/png": "[encoded data removed]",
      "text/plain": [
       "<Figure size 432x288 with 1 Axes>"
      ]
     },
     "metadata": {
      "needs_background": "light"
     },
     "output_type": "display_data"
    }
   ],
   "source": [
    "plt.scatter(y_test,model_pX)\n",
    "plt.xlabel(\"Actual Price\")\n",
    "plt.ylabel(\"Predicted Price\")\n",
    "plt.title(\" Actual Prices vs Predicted Prices\")\n",
    "plt.show()"
   ]
  },
  {
   "cell_type": "code",
   "execution_count": 203,
   "id": "c1eb13aa",
   "metadata": {},
   "outputs": [
    {
     "data": {
      "text/html": [
       "<div>\n",
       "<style scoped>\n",
       "    .dataframe tbody tr th:only-of-type {\n",
       "        vertical-align: middle;\n",
       "    }\n",
       "\n",
       "    .dataframe tbody tr th {\n",
       "        vertical-align: top;\n",
       "    }\n",
       "\n",
       "    .dataframe thead th {\n",
       "        text-align: right;\n",
       "    }\n",
       "</style>\n",
       "<table border=\"1\" class=\"dataframe\">\n",
       "  <thead>\n",
       "    <tr style=\"text-align: right;\">\n",
       "      <th></th>\n",
       "      <th>y_test</th>\n",
       "      <th>y_pred</th>\n",
       "    </tr>\n",
       "  </thead>\n",
       "  <tbody>\n",
       "    <tr>\n",
       "      <th>177</th>\n",
       "      <td>0.35</td>\n",
       "      <td>2.398367</td>\n",
       "    </tr>\n",
       "    <tr>\n",
       "      <th>289</th>\n",
       "      <td>10.11</td>\n",
       "      <td>7.692605</td>\n",
       "    </tr>\n",
       "    <tr>\n",
       "      <th>228</th>\n",
       "      <td>4.95</td>\n",
       "      <td>6.978431</td>\n",
       "    </tr>\n",
       "    <tr>\n",
       "      <th>198</th>\n",
       "      <td>0.15</td>\n",
       "      <td>-1.044496</td>\n",
       "    </tr>\n",
       "    <tr>\n",
       "      <th>60</th>\n",
       "      <td>6.95</td>\n",
       "      <td>9.261499</td>\n",
       "    </tr>\n",
       "  </tbody>\n",
       "</table>\n",
       "</div>"
      ],
      "text/plain": [
       "     y_test    y_pred\n",
       "177    0.35  2.398367\n",
       "289   10.11  7.692605\n",
       "228    4.95  6.978431\n",
       "198    0.15 -1.044496\n",
       "60     6.95  9.261499"
      ]
     },
     "execution_count": 203,
     "metadata": {},
     "output_type": "execute_result"
    }
   ],
   "source": [
    "df_pred_test = pd.DataFrame(\n",
    "    {\n",
    "        \"y_test\" : y_test,\n",
    "        \"y_pred\" : model.predict(X_test)\n",
    "    }\n",
    ")\n",
    "df_pred_test.head()"
   ]
  },
  {
   "cell_type": "code",
   "execution_count": 204,
   "id": "c0ff76c9",
   "metadata": {},
   "outputs": [
    {
     "data": {
      "application/vnd.plotly.v1+json": {
       "config": {
        "plotlyServerURL": "https://plot.ly"
       },
       "data": [
        {
         "hovertemplate": "variable=y_test<br>index=%{x}<br>Selling-prediction=%{y}<extra></extra>",
         "legendgroup": "y_test",
         "line": {
          "color": "#636efa",
          "dash": "solid"
         },
         "marker": {
          "symbol": "circle"
         },
         "mode": "lines",
         "name": "y_test",
         "orientation": "v",
         "showlegend": true,
         "type": "scatter",
         "x": [
          177,
          289,
          228,
          198,
          60,
          9,
          118,
          154,
          164,
          33,
          5,
          116,
          45,
          173,
          230,
          46,
          124,
          97,
          158,
          101,
          168,
          267,
          240,
          25,
          144,
          246,
          251,
          73,
          109,
          108,
          137,
          282,
          163,
          42,
          17,
          266,
          76,
          90,
          24,
          57,
          92,
          77,
          290,
          167,
          7,
          140,
          279,
          78,
          248,
          229,
          224,
          104,
          63,
          82,
          223,
          275,
          234,
          296,
          281,
          285,
          182
         ],
         "xaxis": "x",
         "y": [
          0.35,
          10.11,
          4.95,
          0.15,
          6.95,
          7.45,
          1.1,
          0.5,
          0.45,
          6,
          9.25,
          1.1,
          7.5,
          0.4,
          6.15,
          2.65,
          0.95,
          17,
          0.48,
          1.7,
          0.42,
          8.35,
          5.35,
          3,
          0.6,
          3.75,
          5,
          2.65,
          1.2,
          1.2,
          0.65,
          8.25,
          0.45,
          1.95,
          7.75,
          3.65,
          5.5,
          3.8,
          2.9,
          4.75,
          3.51,
          1.5,
          4.5,
          0.42,
          6.5,
          0.6,
          6.25,
          5.25,
          4,
          3.1,
          5.11,
          1.35,
          23.5,
          23,
          8.25,
          10.9,
          5.5,
          9.5,
          2.1,
          7.4,
          0.3
         ],
         "yaxis": "y"
        },
        {
         "hovertemplate": "variable=y_pred<br>index=%{x}<br>Selling-prediction=%{y}<extra></extra>",
         "legendgroup": "y_pred",
         "line": {
          "color": "#EF553B",
          "dash": "solid"
         },
         "marker": {
          "symbol": "circle"
         },
         "mode": "lines",
         "name": "y_pred",
         "orientation": "v",
         "showlegend": true,
         "type": "scatter",
         "x": [
          177,
          289,
          228,
          198,
          60,
          9,
          118,
          154,
          164,
          33,
          5,
          116,
          45,
          173,
          230,
          46,
          124,
          97,
          158,
          101,
          168,
          267,
          240,
          25,
          144,
          246,
          251,
          73,
          109,
          108,
          137,
          282,
          163,
          42,
          17,
          266,
          76,
          90,
          24,
          57,
          92,
          77,
          290,
          167,
          7,
          140,
          279,
          78,
          248,
          229,
          224,
          104,
          63,
          82,
          223,
          275,
          234,
          296,
          281,
          285,
          182
         ],
         "xaxis": "x",
         "y": [
          2.3983673552891913,
          7.692604760102657,
          6.978431206801901,
          -1.0444960851725016,
          9.261498574156999,
          7.109647992872223,
          0.8512998975178823,
          0.942948507209409,
          0.6854150194081532,
          7.49537948772512,
          8.258344441068104,
          0.7186149083165345,
          8.84641516228498,
          2.803268732554721,
          7.262756183661932,
          2.9936194492784045,
          1.2445737844905045,
          9.867497524728048,
          0.7877720110777648,
          1.465625871244907,
          0.8036857940901072,
          7.74735967422217,
          7.503067654104032,
          3.880018586773772,
          0.6672381942473447,
          4.357006241393264,
          5.261042866482472,
          3.7485786748468666,
          1.1356248743779132,
          1.0156284290345572,
          0.7519740335909502,
          8.867142936322011,
          0.6124101388553509,
          4.073303803170455,
          7.8885687126635675,
          4.4458260483992085,
          6.992758333123764,
          8.844507563094076,
          2.93566535074452,
          9.042360942246788,
          6.521400905057351,
          6.700011230841555,
          4.495335146556735,
          0.2688719573246905,
          7.1479528158846355,
          0.6233730120519412,
          7.140142375065159,
          12.177986536815986,
          3.5255175320465213,
          6.023665819018908,
          7.328015245483085,
          1.2664143637335274,
          20.348250792285963,
          16.48421379028816,
          6.9522543539323225,
          9.207621352202164,
          4.474268240822608,
          8.401981842926862,
          4.406628469402474,
          7.3480486421329365,
          0.3990531025681099
         ],
         "yaxis": "y"
        }
       ],
       "layout": {
        "legend": {
         "title": {
          "text": "variable"
         },
         "tracegroupgap": 0
        },
        "margin": {
         "t": 60
        },
        "template": {
         "data": {
          "bar": [
           {
            "error_x": {
             "color": "#2a3f5f"
            },
            "error_y": {
             "color": "#2a3f5f"
            },
            "marker": {
             "line": {
              "color": "#E5ECF6",
              "width": 0.5
             },
             "pattern": {
              "fillmode": "overlay",
              "size": 10,
              "solidity": 0.2
             }
            },
            "type": "bar"
           }
          ],
          "barpolar": [
           {
            "marker": {
             "line": {
              "color": "#E5ECF6",
              "width": 0.5
             },
             "pattern": {
              "fillmode": "overlay",
              "size": 10,
              "solidity": 0.2
             }
            },
            "type": "barpolar"
           }
          ],
          "carpet": [
           {
            "aaxis": {
             "endlinecolor": "#2a3f5f",
             "gridcolor": "white",
             "linecolor": "white",
             "minorgridcolor": "white",
             "startlinecolor": "#2a3f5f"
            },
            "baxis": {
             "endlinecolor": "#2a3f5f",
             "gridcolor": "white",
             "linecolor": "white",
             "minorgridcolor": "white",
             "startlinecolor": "#2a3f5f"
            },
            "type": "carpet"
           }
          ],
          "choropleth": [
           {
            "colorbar": {
             "outlinewidth": 0,
             "ticks": ""
            },
            "type": "choropleth"
           }
          ],
          "contour": [
           {
            "colorbar": {
             "outlinewidth": 0,
             "ticks": ""
            },
            "colorscale": [
             [
              0,
              "#0d0887"
             ],
             [
              0.1111111111111111,
              "#46039f"
             ],
             [
              0.2222222222222222,
              "#7201a8"
             ],
             [
              0.3333333333333333,
              "#9c179e"
             ],
             [
              0.4444444444444444,
              "#bd3786"
             ],
             [
              0.5555555555555556,
              "#d8576b"
             ],
             [
              0.6666666666666666,
              "#ed7953"
             ],
             [
              0.7777777777777778,
              "#fb9f3a"
             ],
             [
              0.8888888888888888,
              "#fdca26"
             ],
             [
              1,
              "#f0f921"
             ]
            ],
            "type": "contour"
           }
          ],
          "contourcarpet": [
           {
            "colorbar": {
             "outlinewidth": 0,
             "ticks": ""
            },
            "type": "contourcarpet"
           }
          ],
          "heatmap": [
           {
            "colorbar": {
             "outlinewidth": 0,
             "ticks": ""
            },
            "colorscale": [
             [
              0,
              "#0d0887"
             ],
             [
              0.1111111111111111,
              "#46039f"
             ],
             [
              0.2222222222222222,
              "#7201a8"
             ],
             [
              0.3333333333333333,
              "#9c179e"
             ],
             [
              0.4444444444444444,
              "#bd3786"
             ],
             [
              0.5555555555555556,
              "#d8576b"
             ],
             [
              0.6666666666666666,
              "#ed7953"
             ],
             [
              0.7777777777777778,
              "#fb9f3a"
             ],
             [
              0.8888888888888888,
              "#fdca26"
             ],
             [
              1,
              "#f0f921"
             ]
            ],
            "type": "heatmap"
           }
          ],
          "heatmapgl": [
           {
            "colorbar": {
             "outlinewidth": 0,
             "ticks": ""
            },
            "colorscale": [
             [
              0,
              "#0d0887"
             ],
             [
              0.1111111111111111,
              "#46039f"
             ],
             [
              0.2222222222222222,
              "#7201a8"
             ],
             [
              0.3333333333333333,
              "#9c179e"
             ],
             [
              0.4444444444444444,
              "#bd3786"
             ],
             [
              0.5555555555555556,
              "#d8576b"
             ],
             [
              0.6666666666666666,
              "#ed7953"
             ],
             [
              0.7777777777777778,
              "#fb9f3a"
             ],
             [
              0.8888888888888888,
              "#fdca26"
             ],
             [
              1,
              "#f0f921"
             ]
            ],
            "type": "heatmapgl"
           }
          ],
          "histogram": [
           {
            "marker": {
             "pattern": {
              "fillmode": "overlay",
              "size": 10,
              "solidity": 0.2
             }
            },
            "type": "histogram"
           }
          ],
          "histogram2d": [
           {
            "colorbar": {
             "outlinewidth": 0,
             "ticks": ""
            },
            "colorscale": [
             [
              0,
              "#0d0887"
             ],
             [
              0.1111111111111111,
              "#46039f"
             ],
             [
              0.2222222222222222,
              "#7201a8"
             ],
             [
              0.3333333333333333,
              "#9c179e"
             ],
             [
              0.4444444444444444,
              "#bd3786"
             ],
             [
              0.5555555555555556,
              "#d8576b"
             ],
             [
              0.6666666666666666,
              "#ed7953"
             ],
             [
              0.7777777777777778,
              "#fb9f3a"
             ],
             [
              0.8888888888888888,
              "#fdca26"
             ],
             [
              1,
              "#f0f921"
             ]
            ],
            "type": "histogram2d"
           }
          ],
          "histogram2dcontour": [
           {
            "colorbar": {
             "outlinewidth": 0,
             "ticks": ""
            },
            "colorscale": [
             [
              0,
              "#0d0887"
             ],
             [
              0.1111111111111111,
              "#46039f"
             ],
             [
              0.2222222222222222,
              "#7201a8"
             ],
             [
              0.3333333333333333,
              "#9c179e"
             ],
             [
              0.4444444444444444,
              "#bd3786"
             ],
             [
              0.5555555555555556,
              "#d8576b"
             ],
             [
              0.6666666666666666,
              "#ed7953"
             ],
             [
              0.7777777777777778,
              "#fb9f3a"
             ],
             [
              0.8888888888888888,
              "#fdca26"
             ],
             [
              1,
              "#f0f921"
             ]
            ],
            "type": "histogram2dcontour"
           }
          ],
          "mesh3d": [
           {
            "colorbar": {
             "outlinewidth": 0,
             "ticks": ""
            },
            "type": "mesh3d"
           }
          ],
          "parcoords": [
           {
            "line": {
             "colorbar": {
              "outlinewidth": 0,
              "ticks": ""
             }
            },
            "type": "parcoords"
           }
          ],
          "pie": [
           {
            "automargin": true,
            "type": "pie"
           }
          ],
          "scatter": [
           {
            "fillpattern": {
             "fillmode": "overlay",
             "size": 10,
             "solidity": 0.2
            },
            "type": "scatter"
           }
          ],
          "scatter3d": [
           {
            "line": {
             "colorbar": {
              "outlinewidth": 0,
              "ticks": ""
             }
            },
            "marker": {
             "colorbar": {
              "outlinewidth": 0,
              "ticks": ""
             }
            },
            "type": "scatter3d"
           }
          ],
          "scattercarpet": [
           {
            "marker": {
             "colorbar": {
              "outlinewidth": 0,
              "ticks": ""
             }
            },
            "type": "scattercarpet"
           }
          ],
          "scattergeo": [
           {
            "marker": {
             "colorbar": {
              "outlinewidth": 0,
              "ticks": ""
             }
            },
            "type": "scattergeo"
           }
          ],
          "scattergl": [
           {
            "marker": {
             "colorbar": {
              "outlinewidth": 0,
              "ticks": ""
             }
            },
            "type": "scattergl"
           }
          ],
          "scattermapbox": [
           {
            "marker": {
             "colorbar": {
              "outlinewidth": 0,
              "ticks": ""
             }
            },
            "type": "scattermapbox"
           }
          ],
          "scatterpolar": [
           {
            "marker": {
             "colorbar": {
              "outlinewidth": 0,
              "ticks": ""
             }
            },
            "type": "scatterpolar"
           }
          ],
          "scatterpolargl": [
           {
            "marker": {
             "colorbar": {
              "outlinewidth": 0,
              "ticks": ""
             }
            },
            "type": "scatterpolargl"
           }
          ],
          "scatterternary": [
           {
            "marker": {
             "colorbar": {
              "outlinewidth": 0,
              "ticks": ""
             }
            },
            "type": "scatterternary"
           }
          ],
          "surface": [
           {
            "colorbar": {
             "outlinewidth": 0,
             "ticks": ""
            },
            "colorscale": [
             [
              0,
              "#0d0887"
             ],
             [
              0.1111111111111111,
              "#46039f"
             ],
             [
              0.2222222222222222,
              "#7201a8"
             ],
             [
              0.3333333333333333,
              "#9c179e"
             ],
             [
              0.4444444444444444,
              "#bd3786"
             ],
             [
              0.5555555555555556,
              "#d8576b"
             ],
             [
              0.6666666666666666,
              "#ed7953"
             ],
             [
              0.7777777777777778,
              "#fb9f3a"
             ],
             [
              0.8888888888888888,
              "#fdca26"
             ],
             [
              1,
              "#f0f921"
             ]
            ],
            "type": "surface"
           }
          ],
          "table": [
           {
            "cells": {
             "fill": {
              "color": "#EBF0F8"
             },
             "line": {
              "color": "white"
             }
            },
            "header": {
             "fill": {
              "color": "#C8D4E3"
             },
             "line": {
              "color": "white"
             }
            },
            "type": "table"
           }
          ]
         },
         "layout": {
          "annotationdefaults": {
           "arrowcolor": "#2a3f5f",
           "arrowhead": 0,
           "arrowwidth": 1
          },
          "autotypenumbers": "strict",
          "coloraxis": {
           "colorbar": {
            "outlinewidth": 0,
            "ticks": ""
           }
          },
          "colorscale": {
           "diverging": [
            [
             0,
             "#8e0152"
            ],
            [
             0.1,
             "#c51b7d"
            ],
            [
             0.2,
             "#de77ae"
            ],
            [
             0.3,
             "#f1b6da"
            ],
            [
             0.4,
             "#fde0ef"
            ],
            [
             0.5,
             "#f7f7f7"
            ],
            [
             0.6,
             "#e6f5d0"
            ],
            [
             0.7,
             "#b8e186"
            ],
            [
             0.8,
             "#7fbc41"
            ],
            [
             0.9,
             "#4d9221"
            ],
            [
             1,
             "#276419"
            ]
           ],
           "sequential": [
            [
             0,
             "#0d0887"
            ],
            [
             0.1111111111111111,
             "#46039f"
            ],
            [
             0.2222222222222222,
             "#7201a8"
            ],
            [
             0.3333333333333333,
             "#9c179e"
            ],
            [
             0.4444444444444444,
             "#bd3786"
            ],
            [
             0.5555555555555556,
             "#d8576b"
            ],
            [
             0.6666666666666666,
             "#ed7953"
            ],
            [
             0.7777777777777778,
             "#fb9f3a"
            ],
            [
             0.8888888888888888,
             "#fdca26"
            ],
            [
             1,
             "#f0f921"
            ]
           ],
           "sequentialminus": [
            [
             0,
             "#0d0887"
            ],
            [
             0.1111111111111111,
             "#46039f"
            ],
            [
             0.2222222222222222,
             "#7201a8"
            ],
            [
             0.3333333333333333,
             "#9c179e"
            ],
            [
             0.4444444444444444,
             "#bd3786"
            ],
            [
             0.5555555555555556,
             "#d8576b"
            ],
            [
             0.6666666666666666,
             "#ed7953"
            ],
            [
             0.7777777777777778,
             "#fb9f3a"
            ],
            [
             0.8888888888888888,
             "#fdca26"
            ],
            [
             1,
             "#f0f921"
            ]
           ]
          },
          "colorway": [
           "#636efa",
           "#EF553B",
           "#00cc96",
           "#ab63fa",
           "#FFA15A",
           "#19d3f3",
           "#FF6692",
           "#B6E880",
           "#FF97FF",
           "#FECB52"
          ],
          "font": {
           "color": "#2a3f5f"
          },
          "geo": {
           "bgcolor": "white",
           "lakecolor": "white",
           "landcolor": "#E5ECF6",
           "showlakes": true,
           "showland": true,
           "subunitcolor": "white"
          },
          "hoverlabel": {
           "align": "left"
          },
          "hovermode": "closest",
          "mapbox": {
           "style": "light"
          },
          "paper_bgcolor": "white",
          "plot_bgcolor": "#E5ECF6",
          "polar": {
           "angularaxis": {
            "gridcolor": "white",
            "linecolor": "white",
            "ticks": ""
           },
           "bgcolor": "#E5ECF6",
           "radialaxis": {
            "gridcolor": "white",
            "linecolor": "white",
            "ticks": ""
           }
          },
          "scene": {
           "xaxis": {
            "backgroundcolor": "#E5ECF6",
            "gridcolor": "white",
            "gridwidth": 2,
            "linecolor": "white",
            "showbackground": true,
            "ticks": "",
            "zerolinecolor": "white"
           },
           "yaxis": {
            "backgroundcolor": "#E5ECF6",
            "gridcolor": "white",
            "gridwidth": 2,
            "linecolor": "white",
            "showbackground": true,
            "ticks": "",
            "zerolinecolor": "white"
           },
           "zaxis": {
            "backgroundcolor": "#E5ECF6",
            "gridcolor": "white",
            "gridwidth": 2,
            "linecolor": "white",
            "showbackground": true,
            "ticks": "",
            "zerolinecolor": "white"
           }
          },
          "shapedefaults": {
           "line": {
            "color": "#2a3f5f"
           }
          },
          "ternary": {
           "aaxis": {
            "gridcolor": "white",
            "linecolor": "white",
            "ticks": ""
           },
           "baxis": {
            "gridcolor": "white",
            "linecolor": "white",
            "ticks": ""
           },
           "bgcolor": "#E5ECF6",
           "caxis": {
            "gridcolor": "white",
            "linecolor": "white",
            "ticks": ""
           }
          },
          "title": {
           "x": 0.05
          },
          "xaxis": {
           "automargin": true,
           "gridcolor": "white",
           "linecolor": "white",
           "ticks": "",
           "title": {
            "standoff": 15
           },
           "zerolinecolor": "white",
           "zerolinewidth": 2
          },
          "yaxis": {
           "automargin": true,
           "gridcolor": "white",
           "linecolor": "white",
           "ticks": "",
           "title": {
            "standoff": 15
           },
           "zerolinecolor": "white",
           "zerolinewidth": 2
          }
         }
        },
        "xaxis": {
         "anchor": "y",
         "domain": [
          0,
          1
         ],
         "title": {
          "text": "index"
         }
        },
        "yaxis": {
         "anchor": "x",
         "domain": [
          0,
          1
         ],
         "title": {
          "text": "Selling-prediction"
         }
        }
       }
      },
      "text/html": [
       "<div>                            <div id=\"90968a6e-a6ad-4c27-a595-9187d5628ddf\" class=\"plotly-graph-div\" style=\"height:525px; width:100%;\"></div>            <script type=\"text/javascript\">                require([\"plotly\"], function(Plotly) {                    window.PLOTLYENV=window.PLOTLYENV || {};                                    if (document.getElementById(\"90968a6e-a6ad-4c27-a595-9187d5628ddf\")) {                    Plotly.newPlot(                        \"90968a6e-a6ad-4c27-a595-9187d5628ddf\",                        [{\"hovertemplate\":\"variable=y_test<br>index=%{x}<br>Selling-prediction=%{y}<extra></extra>\",\"legendgroup\":\"y_test\",\"line\":{\"color\":\"#636efa\",\"dash\":\"solid\"},\"marker\":{\"symbol\":\"circle\"},\"mode\":\"lines\",\"name\":\"y_test\",\"orientation\":\"v\",\"showlegend\":true,\"x\":[177,289,228,198,60,9,118,154,164,33,5,116,45,173,230,46,124,97,158,101,168,267,240,25,144,246,251,73,109,108,137,282,163,42,17,266,76,90,24,57,92,77,290,167,7,140,279,78,248,229,224,104,63,82,223,275,234,296,281,285,182],\"xaxis\":\"x\",\"y\":[0.35,10.11,4.95,0.15,6.95,7.45,1.1,0.5,0.45,6.0,9.25,1.1,7.5,0.4,6.15,2.65,0.95,17.0,0.48,1.7,0.42,8.35,5.35,3.0,0.6,3.75,5.0,2.65,1.2,1.2,0.65,8.25,0.45,1.95,7.75,3.65,5.5,3.8,2.9,4.75,3.51,1.5,4.5,0.42,6.5,0.6,6.25,5.25,4.0,3.1,5.11,1.35,23.5,23.0,8.25,10.9,5.5,9.5,2.1,7.4,0.3],\"yaxis\":\"y\",\"type\":\"scatter\"},{\"hovertemplate\":\"variable=y_pred<br>index=%{x}<br>Selling-prediction=%{y}<extra></extra>\",\"legendgroup\":\"y_pred\",\"line\":{\"color\":\"#EF553B\",\"dash\":\"solid\"},\"marker\":{\"symbol\":\"circle\"},\"mode\":\"lines\",\"name\":\"y_pred\",\"orientation\":\"v\",\"showlegend\":true,\"x\":[177,289,228,198,60,9,118,154,164,33,5,116,45,173,230,46,124,97,158,101,168,267,240,25,144,246,251,73,109,108,137,282,163,42,17,266,76,90,24,57,92,77,290,167,7,140,279,78,248,229,224,104,63,82,223,275,234,296,281,285,182],\"xaxis\":\"x\",\"y\":[2.3983673552891913,7.692604760102657,6.978431206801901,-1.0444960851725016,9.261498574156999,7.109647992872223,0.8512998975178823,0.942948507209409,0.6854150194081532,7.49537948772512,8.258344441068104,0.7186149083165345,8.84641516228498,2.803268732554721,7.262756183661932,2.9936194492784045,1.2445737844905045,9.867497524728048,0.7877720110777648,1.465625871244907,0.8036857940901072,7.74735967422217,7.503067654104032,3.880018586773772,0.6672381942473447,4.357006241393264,5.261042866482472,3.7485786748468666,1.1356248743779132,1.0156284290345572,0.7519740335909502,8.867142936322011,0.6124101388553509,4.073303803170455,7.8885687126635675,4.4458260483992085,6.992758333123764,8.844507563094076,2.93566535074452,9.042360942246788,6.521400905057351,6.700011230841555,4.495335146556735,0.2688719573246905,7.1479528158846355,0.6233730120519412,7.140142375065159,12.177986536815986,3.5255175320465213,6.023665819018908,7.328015245483085,1.2664143637335274,20.348250792285963,16.48421379028816,6.9522543539323225,9.207621352202164,4.474268240822608,8.401981842926862,4.406628469402474,7.3480486421329365,0.3990531025681099],\"yaxis\":\"y\",\"type\":\"scatter\"}],                        {\"template\":{\"data\":{\"histogram2dcontour\":[{\"type\":\"histogram2dcontour\",\"colorbar\":{\"outlinewidth\":0,\"ticks\":\"\"},\"colorscale\":[[0.0,\"#0d0887\"],[0.1111111111111111,\"#46039f\"],[0.2222222222222222,\"#7201a8\"],[0.3333333333333333,\"#9c179e\"],[0.4444444444444444,\"#bd3786\"],[0.5555555555555556,\"#d8576b\"],[0.6666666666666666,\"#ed7953\"],[0.7777777777777778,\"#fb9f3a\"],[0.8888888888888888,\"#fdca26\"],[1.0,\"#f0f921\"]]}],\"choropleth\":[{\"type\":\"choropleth\",\"colorbar\":{\"outlinewidth\":0,\"ticks\":\"\"}}],\"histogram2d\":[{\"type\":\"histogram2d\",\"colorbar\":{\"outlinewidth\":0,\"ticks\":\"\"},\"colorscale\":[[0.0,\"#0d0887\"],[0.1111111111111111,\"#46039f\"],[0.2222222222222222,\"#7201a8\"],[0.3333333333333333,\"#9c179e\"],[0.4444444444444444,\"#bd3786\"],[0.5555555555555556,\"#d8576b\"],[0.6666666666666666,\"#ed7953\"],[0.7777777777777778,\"#fb9f3a\"],[0.8888888888888888,\"#fdca26\"],[1.0,\"#f0f921\"]]}],\"heatmap\":[{\"type\":\"heatmap\",\"colorbar\":{\"outlinewidth\":0,\"ticks\":\"\"},\"colorscale\":[[0.0,\"#0d0887\"],[0.1111111111111111,\"#46039f\"],[0.2222222222222222,\"#7201a8\"],[0.3333333333333333,\"#9c179e\"],[0.4444444444444444,\"#bd3786\"],[0.5555555555555556,\"#d8576b\"],[0.6666666666666666,\"#ed7953\"],[0.7777777777777778,\"#fb9f3a\"],[0.8888888888888888,\"#fdca26\"],[1.0,\"#f0f921\"]]}],\"heatmapgl\":[{\"type\":\"heatmapgl\",\"colorbar\":{\"outlinewidth\":0,\"ticks\":\"\"},\"colorscale\":[[0.0,\"#0d0887\"],[0.1111111111111111,\"#46039f\"],[0.2222222222222222,\"#7201a8\"],[0.3333333333333333,\"#9c179e\"],[0.4444444444444444,\"#bd3786\"],[0.5555555555555556,\"#d8576b\"],[0.6666666666666666,\"#ed7953\"],[0.7777777777777778,\"#fb9f3a\"],[0.8888888888888888,\"#fdca26\"],[1.0,\"#f0f921\"]]}],\"contourcarpet\":[{\"type\":\"contourcarpet\",\"colorbar\":{\"outlinewidth\":0,\"ticks\":\"\"}}],\"contour\":[{\"type\":\"contour\",\"colorbar\":{\"outlinewidth\":0,\"ticks\":\"\"},\"colorscale\":[[0.0,\"#0d0887\"],[0.1111111111111111,\"#46039f\"],[0.2222222222222222,\"#7201a8\"],[0.3333333333333333,\"#9c179e\"],[0.4444444444444444,\"#bd3786\"],[0.5555555555555556,\"#d8576b\"],[0.6666666666666666,\"#ed7953\"],[0.7777777777777778,\"#fb9f3a\"],[0.8888888888888888,\"#fdca26\"],[1.0,\"#f0f921\"]]}],\"surface\":[{\"type\":\"surface\",\"colorbar\":{\"outlinewidth\":0,\"ticks\":\"\"},\"colorscale\":[[0.0,\"#0d0887\"],[0.1111111111111111,\"#46039f\"],[0.2222222222222222,\"#7201a8\"],[0.3333333333333333,\"#9c179e\"],[0.4444444444444444,\"#bd3786\"],[0.5555555555555556,\"#d8576b\"],[0.6666666666666666,\"#ed7953\"],[0.7777777777777778,\"#fb9f3a\"],[0.8888888888888888,\"#fdca26\"],[1.0,\"#f0f921\"]]}],\"mesh3d\":[{\"type\":\"mesh3d\",\"colorbar\":{\"outlinewidth\":0,\"ticks\":\"\"}}],\"scatter\":[{\"fillpattern\":{\"fillmode\":\"overlay\",\"size\":10,\"solidity\":0.2},\"type\":\"scatter\"}],\"parcoords\":[{\"type\":\"parcoords\",\"line\":{\"colorbar\":{\"outlinewidth\":0,\"ticks\":\"\"}}}],\"scatterpolargl\":[{\"type\":\"scatterpolargl\",\"marker\":{\"colorbar\":{\"outlinewidth\":0,\"ticks\":\"\"}}}],\"bar\":[{\"error_x\":{\"color\":\"#2a3f5f\"},\"error_y\":{\"color\":\"#2a3f5f\"},\"marker\":{\"line\":{\"color\":\"#E5ECF6\",\"width\":0.5},\"pattern\":{\"fillmode\":\"overlay\",\"size\":10,\"solidity\":0.2}},\"type\":\"bar\"}],\"scattergeo\":[{\"type\":\"scattergeo\",\"marker\":{\"colorbar\":{\"outlinewidth\":0,\"ticks\":\"\"}}}],\"scatterpolar\":[{\"type\":\"scatterpolar\",\"marker\":{\"colorbar\":{\"outlinewidth\":0,\"ticks\":\"\"}}}],\"histogram\":[{\"marker\":{\"pattern\":{\"fillmode\":\"overlay\",\"size\":10,\"solidity\":0.2}},\"type\":\"histogram\"}],\"scattergl\":[{\"type\":\"scattergl\",\"marker\":{\"colorbar\":{\"outlinewidth\":0,\"ticks\":\"\"}}}],\"scatter3d\":[{\"type\":\"scatter3d\",\"line\":{\"colorbar\":{\"outlinewidth\":0,\"ticks\":\"\"}},\"marker\":{\"colorbar\":{\"outlinewidth\":0,\"ticks\":\"\"}}}],\"scattermapbox\":[{\"type\":\"scattermapbox\",\"marker\":{\"colorbar\":{\"outlinewidth\":0,\"ticks\":\"\"}}}],\"scatterternary\":[{\"type\":\"scatterternary\",\"marker\":{\"colorbar\":{\"outlinewidth\":0,\"ticks\":\"\"}}}],\"scattercarpet\":[{\"type\":\"scattercarpet\",\"marker\":{\"colorbar\":{\"outlinewidth\":0,\"ticks\":\"\"}}}],\"carpet\":[{\"aaxis\":{\"endlinecolor\":\"#2a3f5f\",\"gridcolor\":\"white\",\"linecolor\":\"white\",\"minorgridcolor\":\"white\",\"startlinecolor\":\"#2a3f5f\"},\"baxis\":{\"endlinecolor\":\"#2a3f5f\",\"gridcolor\":\"white\",\"linecolor\":\"white\",\"minorgridcolor\":\"white\",\"startlinecolor\":\"#2a3f5f\"},\"type\":\"carpet\"}],\"table\":[{\"cells\":{\"fill\":{\"color\":\"#EBF0F8\"},\"line\":{\"color\":\"white\"}},\"header\":{\"fill\":{\"color\":\"#C8D4E3\"},\"line\":{\"color\":\"white\"}},\"type\":\"table\"}],\"barpolar\":[{\"marker\":{\"line\":{\"color\":\"#E5ECF6\",\"width\":0.5},\"pattern\":{\"fillmode\":\"overlay\",\"size\":10,\"solidity\":0.2}},\"type\":\"barpolar\"}],\"pie\":[{\"automargin\":true,\"type\":\"pie\"}]},\"layout\":{\"autotypenumbers\":\"strict\",\"colorway\":[\"#636efa\",\"#EF553B\",\"#00cc96\",\"#ab63fa\",\"#FFA15A\",\"#19d3f3\",\"#FF6692\",\"#B6E880\",\"#FF97FF\",\"#FECB52\"],\"font\":{\"color\":\"#2a3f5f\"},\"hovermode\":\"closest\",\"hoverlabel\":{\"align\":\"left\"},\"paper_bgcolor\":\"white\",\"plot_bgcolor\":\"#E5ECF6\",\"polar\":{\"bgcolor\":\"#E5ECF6\",\"angularaxis\":{\"gridcolor\":\"white\",\"linecolor\":\"white\",\"ticks\":\"\"},\"radialaxis\":{\"gridcolor\":\"white\",\"linecolor\":\"white\",\"ticks\":\"\"}},\"ternary\":{\"bgcolor\":\"#E5ECF6\",\"aaxis\":{\"gridcolor\":\"white\",\"linecolor\":\"white\",\"ticks\":\"\"},\"baxis\":{\"gridcolor\":\"white\",\"linecolor\":\"white\",\"ticks\":\"\"},\"caxis\":{\"gridcolor\":\"white\",\"linecolor\":\"white\",\"ticks\":\"\"}},\"coloraxis\":{\"colorbar\":{\"outlinewidth\":0,\"ticks\":\"\"}},\"colorscale\":{\"sequential\":[[0.0,\"#0d0887\"],[0.1111111111111111,\"#46039f\"],[0.2222222222222222,\"#7201a8\"],[0.3333333333333333,\"#9c179e\"],[0.4444444444444444,\"#bd3786\"],[0.5555555555555556,\"#d8576b\"],[0.6666666666666666,\"#ed7953\"],[0.7777777777777778,\"#fb9f3a\"],[0.8888888888888888,\"#fdca26\"],[1.0,\"#f0f921\"]],\"sequentialminus\":[[0.0,\"#0d0887\"],[0.1111111111111111,\"#46039f\"],[0.2222222222222222,\"#7201a8\"],[0.3333333333333333,\"#9c179e\"],[0.4444444444444444,\"#bd3786\"],[0.5555555555555556,\"#d8576b\"],[0.6666666666666666,\"#ed7953\"],[0.7777777777777778,\"#fb9f3a\"],[0.8888888888888888,\"#fdca26\"],[1.0,\"#f0f921\"]],\"diverging\":[[0,\"#8e0152\"],[0.1,\"#c51b7d\"],[0.2,\"#de77ae\"],[0.3,\"#f1b6da\"],[0.4,\"#fde0ef\"],[0.5,\"#f7f7f7\"],[0.6,\"#e6f5d0\"],[0.7,\"#b8e186\"],[0.8,\"#7fbc41\"],[0.9,\"#4d9221\"],[1,\"#276419\"]]},\"xaxis\":{\"gridcolor\":\"white\",\"linecolor\":\"white\",\"ticks\":\"\",\"title\":{\"standoff\":15},\"zerolinecolor\":\"white\",\"automargin\":true,\"zerolinewidth\":2},\"yaxis\":{\"gridcolor\":\"white\",\"linecolor\":\"white\",\"ticks\":\"\",\"title\":{\"standoff\":15},\"zerolinecolor\":\"white\",\"automargin\":true,\"zerolinewidth\":2},\"scene\":{\"xaxis\":{\"backgroundcolor\":\"#E5ECF6\",\"gridcolor\":\"white\",\"linecolor\":\"white\",\"showbackground\":true,\"ticks\":\"\",\"zerolinecolor\":\"white\",\"gridwidth\":2},\"yaxis\":{\"backgroundcolor\":\"#E5ECF6\",\"gridcolor\":\"white\",\"linecolor\":\"white\",\"showbackground\":true,\"ticks\":\"\",\"zerolinecolor\":\"white\",\"gridwidth\":2},\"zaxis\":{\"backgroundcolor\":\"#E5ECF6\",\"gridcolor\":\"white\",\"linecolor\":\"white\",\"showbackground\":true,\"ticks\":\"\",\"zerolinecolor\":\"white\",\"gridwidth\":2}},\"shapedefaults\":{\"line\":{\"color\":\"#2a3f5f\"}},\"annotationdefaults\":{\"arrowcolor\":\"#2a3f5f\",\"arrowhead\":0,\"arrowwidth\":1},\"geo\":{\"bgcolor\":\"white\",\"landcolor\":\"#E5ECF6\",\"subunitcolor\":\"white\",\"showland\":true,\"showlakes\":true,\"lakecolor\":\"white\"},\"title\":{\"x\":0.05},\"mapbox\":{\"style\":\"light\"}}},\"xaxis\":{\"anchor\":\"y\",\"domain\":[0.0,1.0],\"title\":{\"text\":\"index\"}},\"yaxis\":{\"anchor\":\"x\",\"domain\":[0.0,1.0],\"title\":{\"text\":\"Selling-prediction\"}},\"legend\":{\"title\":{\"text\":\"variable\"},\"tracegroupgap\":0},\"margin\":{\"t\":60}},                        {\"responsive\": true}                    ).then(function(){\n",
       "                            \n",
       "var gd = document.getElementById('90968a6e-a6ad-4c27-a595-9187d5628ddf');\n",
       "var x = new MutationObserver(function (mutations, observer) {{\n",
       "        var display = window.getComputedStyle(gd).display;\n",
       "        if (!display || display === 'none') {{\n",
       "            console.log([gd, 'removed!']);\n",
       "            Plotly.purge(gd);\n",
       "            observer.disconnect();\n",
       "        }}\n",
       "}});\n",
       "\n",
       "// Listen for the removal of the full notebook cells\n",
       "var notebookContainer = gd.closest('#notebook-container');\n",
       "if (notebookContainer) {{\n",
       "    x.observe(notebookContainer, {childList: true});\n",
       "}}\n",
       "\n",
       "// Listen for the clearing of the current output cell\n",
       "var outputEl = gd.closest('.output');\n",
       "if (outputEl) {{\n",
       "    x.observe(outputEl, {childList: true});\n",
       "}}\n",
       "\n",
       "                        })                };                });            </script>        </div>"
      ]
     },
     "metadata": {},
     "output_type": "display_data"
    }
   ],
   "source": [
    "fig = px.line(df_pred_test , labels = {\"value\" : \"Selling-prediction\"} )\n",
    "fig.show()"
   ]
  },
  {
   "cell_type": "code",
   "execution_count": 205,
   "id": "387a35d7",
   "metadata": {},
   "outputs": [
    {
     "data": {
      "text/html": [
       "<div>\n",
       "<style scoped>\n",
       "    .dataframe tbody tr th:only-of-type {\n",
       "        vertical-align: middle;\n",
       "    }\n",
       "\n",
       "    .dataframe tbody tr th {\n",
       "        vertical-align: top;\n",
       "    }\n",
       "\n",
       "    .dataframe thead th {\n",
       "        text-align: right;\n",
       "    }\n",
       "</style>\n",
       "<table border=\"1\" class=\"dataframe\">\n",
       "  <thead>\n",
       "    <tr style=\"text-align: right;\">\n",
       "      <th></th>\n",
       "      <th>y_test</th>\n",
       "      <th>y_pred</th>\n",
       "    </tr>\n",
       "  </thead>\n",
       "  <tbody>\n",
       "    <tr>\n",
       "      <th>177</th>\n",
       "      <td>0.35</td>\n",
       "      <td>2.398367</td>\n",
       "    </tr>\n",
       "    <tr>\n",
       "      <th>289</th>\n",
       "      <td>10.11</td>\n",
       "      <td>7.692605</td>\n",
       "    </tr>\n",
       "    <tr>\n",
       "      <th>228</th>\n",
       "      <td>4.95</td>\n",
       "      <td>6.978431</td>\n",
       "    </tr>\n",
       "    <tr>\n",
       "      <th>198</th>\n",
       "      <td>0.15</td>\n",
       "      <td>-1.044496</td>\n",
       "    </tr>\n",
       "    <tr>\n",
       "      <th>60</th>\n",
       "      <td>6.95</td>\n",
       "      <td>9.261499</td>\n",
       "    </tr>\n",
       "  </tbody>\n",
       "</table>\n",
       "</div>"
      ],
      "text/plain": [
       "     y_test    y_pred\n",
       "177    0.35  2.398367\n",
       "289   10.11  7.692605\n",
       "228    4.95  6.978431\n",
       "198    0.15 -1.044496\n",
       "60     6.95  9.261499"
      ]
     },
     "execution_count": 205,
     "metadata": {},
     "output_type": "execute_result"
    }
   ],
   "source": [
    "df_pred_train = pd.DataFrame(\n",
    "    {\n",
    "        \"y_train\" : y_train,\n",
    "        \"y_pred\" : model.predict(X_train)\n",
    "    }\n",
    ")\n",
    "df_pred_test.head()"
   ]
  },
  {
   "cell_type": "code",
   "execution_count": 206,
   "id": "1be4b5aa",
   "metadata": {},
   "outputs": [
    {
     "data": {
      "application/vnd.plotly.v1+json": {
       "config": {
        "plotlyServerURL": "https://plot.ly"
       },
       "data": [
        {
         "hovertemplate": "variable=y_train<br>index=%{x}<br>Selling-Prediction=%{y}<extra></extra>",
         "legendgroup": "y_train",
         "line": {
          "color": "#636efa",
          "dash": "solid"
         },
         "marker": {
          "symbol": "circle"
         },
         "mode": "lines",
         "name": "y_train",
         "orientation": "v",
         "showlegend": true,
         "type": "scatter",
         "x": [
          184,
          132,
          194,
          75,
          111,
          59,
          93,
          6,
          175,
          30,
          22,
          286,
          56,
          239,
          113,
          129,
          232,
          195,
          277,
          280,
          213,
          84,
          66,
          203,
          165,
          119,
          19,
          181,
          79,
          114,
          185,
          72,
          15,
          10,
          196,
          298,
          68,
          226,
          37,
          16,
          125,
          287,
          271,
          67,
          225,
          69,
          31,
          176,
          152,
          263,
          143,
          18,
          183,
          96,
          236,
          148,
          86,
          250,
          147,
          293,
          256,
          126,
          139,
          208,
          55,
          146,
          186,
          249,
          38,
          197,
          233,
          209,
          112,
          170,
          117,
          278,
          272,
          157,
          178,
          180,
          2,
          115,
          247,
          179,
          120,
          231,
          261,
          127,
          74,
          29,
          83,
          245,
          107,
          155,
          283,
          254,
          192,
          218,
          65,
          200,
          85,
          215,
          159,
          12,
          35,
          28,
          142,
          193,
          131,
          172,
          51,
          95,
          210,
          222,
          41,
          89,
          219,
          136,
          26,
          294,
          141,
          202,
          0,
          269,
          273,
          100,
          260,
          103,
          171,
          98,
          36,
          61,
          150,
          238,
          204,
          244,
          11,
          297,
          268,
          27,
          221,
          4,
          122,
          32,
          206,
          162,
          211,
          258,
          138,
          62,
          135,
          128,
          291,
          8,
          70,
          265,
          64,
          44,
          237,
          156,
          40,
          123,
          284,
          216,
          153,
          23,
          262,
          110,
          81,
          207,
          212,
          39,
          242,
          292,
          259,
          199,
          14,
          47,
          94,
          264,
          227,
          274,
          201,
          161,
          43,
          217,
          145,
          190,
          220,
          255,
          3,
          105,
          53,
          133,
          253,
          1,
          49,
          80,
          205,
          34,
          91,
          52,
          241,
          13,
          88,
          166,
          295,
          134,
          288,
          243,
          54,
          50,
          174,
          189,
          299,
          187,
          169,
          58,
          48,
          235,
          252,
          21,
          160,
          276,
          191,
          257,
          149,
          130,
          151,
          99,
          87,
          214,
          121,
          300,
          20,
          188,
          71,
          106,
          270,
          102
         ],
         "xaxis": "x",
         "y": [
          0.25,
          0.75,
          0.2,
          3.95,
          1.15,
          19.99,
          23,
          6.75,
          0.38,
          3.1,
          4.4,
          5.65,
          4.5,
          2,
          1.15,
          0.78,
          11.45,
          0.18,
          9.7,
          5.25,
          2.9,
          3.49,
          19.75,
          2.95,
          0.45,
          1.05,
          2.65,
          0.3,
          14.5,
          1.15,
          0.25,
          7.45,
          7.75,
          2.85,
          0.17,
          3.35,
          4.35,
          5.25,
          0.35,
          7.25,
          0.9,
          5.75,
          3,
          9.25,
          2.7,
          14.25,
          2.35,
          0.35,
          0.5,
          6.6,
          0.6,
          3.25,
          0.27,
          20.75,
          3.1,
          0.52,
          35,
          12.9,
          0.55,
          3.25,
          10.25,
          0.9,
          0.6,
          7.9,
          3.6,
          0.55,
          0.25,
          5.25,
          3,
          0.16,
          3.9,
          4.85,
          1.15,
          0.4,
          1.1,
          6,
          7.5,
          0.48,
          0.35,
          0.3,
          7.25,
          1.11,
          5.95,
          0.31,
          1.05,
          9.25,
          5.5,
          0.75,
          4.9,
          7.45,
          12.5,
          5.2,
          1.25,
          0.48,
          8.99,
          5.25,
          0.2,
          6.45,
          4.75,
          0.1,
          2.5,
          4.5,
          0.45,
          7.5,
          2.95,
          1.95,
          0.6,
          0.2,
          0.75,
          0.4,
          23,
          5.85,
          3.1,
          6,
          2.55,
          4.75,
          4.5,
          0.65,
          4.15,
          3.75,
          0.6,
          4.4,
          3.35,
          6.7,
          2.25,
          1.75,
          9.15,
          1.45,
          0.4,
          7.05,
          4.65,
          4.5,
          0.5,
          4.8,
          2.75,
          5.95,
          6.85,
          4,
          4.8,
          6,
          4.5,
          4.6,
          1.05,
          4.95,
          5.75,
          0.45,
          11.75,
          8.4,
          0.6,
          18.75,
          0.65,
          0.8,
          5.4,
          8.75,
          3.95,
          6.5,
          33,
          1.25,
          11.25,
          0.48,
          5.85,
          1,
          3.5,
          2.9,
          0.5,
          2.5,
          4,
          1.2,
          4.75,
          5.15,
          11.25,
          2.25,
          4.4,
          6.4,
          3.9,
          0.12,
          2.25,
          1.05,
          4,
          4,
          2.55,
          5.3,
          3.25,
          0.45,
          5.5,
          3.15,
          0.6,
          0.2,
          3.5,
          3,
          2.85,
          1.35,
          16,
          0.72,
          7.2,
          4.75,
          7.75,
          14.73,
          5.25,
          5.5,
          11.25,
          18,
          4.75,
          6.1,
          3.45,
          0.45,
          8.55,
          0.65,
          8.4,
          6.25,
          2.75,
          14.9,
          0.38,
          0.2,
          11.5,
          0.25,
          0.4,
          4.1,
          5.8,
          9.1,
          5.4,
          4.9,
          0.45,
          8.65,
          0.2,
          8.5,
          0.51,
          0.75,
          0.5,
          9.65,
          5.9,
          5.25,
          1.05,
          5.3,
          2.85,
          0.25,
          4.5,
          1.35,
          4.1,
          1.65
         ],
         "yaxis": "y"
        },
        {
         "hovertemplate": "variable=y_pred<br>index=%{x}<br>Selling-Prediction=%{y}<extra></extra>",
         "legendgroup": "y_pred",
         "line": {
          "color": "#EF553B",
          "dash": "solid"
         },
         "marker": {
          "symbol": "circle"
         },
         "mode": "lines",
         "name": "y_pred",
         "orientation": "v",
         "showlegend": true,
         "type": "scatter",
         "x": [
          184,
          132,
          194,
          75,
          111,
          59,
          93,
          6,
          175,
          30,
          22,
          286,
          56,
          239,
          113,
          129,
          232,
          195,
          277,
          280,
          213,
          84,
          66,
          203,
          165,
          119,
          19,
          181,
          79,
          114,
          185,
          72,
          15,
          10,
          196,
          298,
          68,
          226,
          37,
          16,
          125,
          287,
          271,
          67,
          225,
          69,
          31,
          176,
          152,
          263,
          143,
          18,
          183,
          96,
          236,
          148,
          86,
          250,
          147,
          293,
          256,
          126,
          139,
          208,
          55,
          146,
          186,
          249,
          38,
          197,
          233,
          209,
          112,
          170,
          117,
          278,
          272,
          157,
          178,
          180,
          2,
          115,
          247,
          179,
          120,
          231,
          261,
          127,
          74,
          29,
          83,
          245,
          107,
          155,
          283,
          254,
          192,
          218,
          65,
          200,
          85,
          215,
          159,
          12,
          35,
          28,
          142,
          193,
          131,
          172,
          51,
          95,
          210,
          222,
          41,
          89,
          219,
          136,
          26,
          294,
          141,
          202,
          0,
          269,
          273,
          100,
          260,
          103,
          171,
          98,
          36,
          61,
          150,
          238,
          204,
          244,
          11,
          297,
          268,
          27,
          221,
          4,
          122,
          32,
          206,
          162,
          211,
          258,
          138,
          62,
          135,
          128,
          291,
          8,
          70,
          265,
          64,
          44,
          237,
          156,
          40,
          123,
          284,
          216,
          153,
          23,
          262,
          110,
          81,
          207,
          212,
          39,
          242,
          292,
          259,
          199,
          14,
          47,
          94,
          264,
          227,
          274,
          201,
          161,
          43,
          217,
          145,
          190,
          220,
          255,
          3,
          105,
          53,
          133,
          253,
          1,
          49,
          80,
          205,
          34,
          91,
          52,
          241,
          13,
          88,
          166,
          295,
          134,
          288,
          243,
          54,
          50,
          174,
          189,
          299,
          187,
          169,
          58,
          48,
          235,
          252,
          21,
          160,
          276,
          191,
          257,
          149,
          130,
          151,
          99,
          87,
          214,
          121,
          300,
          20,
          188,
          71,
          106,
          270,
          102
         ],
         "xaxis": "x",
         "y": [
          -0.797769835908531,
          1.057852602602733,
          0.10750408604154682,
          4.342280757555259,
          1.1919099146877765,
          20.461980783029976,
          18.21814546014539,
          5.226678480766908,
          -0.3663708753918389,
          5.694210948784056,
          6.478495824687977,
          4.948381959218095,
          4.4551259816582425,
          3.5728616788129965,
          0.6510983090665485,
          0.9828954441040925,
          10.049337179361324,
          0.1943107301788345,
          7.487890776763433,
          4.369820333594216,
          4.4213774161543755,
          6.095443273866718,
          13.621225898190712,
          3.0808332682374324,
          2.8311212751785817,
          1.4236419943702108,
          4.738210381031461,
          -0.022342012771905395,
          17.289350535735952,
          1.0218948836339008,
          2.8215023358156346,
          8.958218598839633,
          7.8885687126635675,
          3.6307471021271036,
          -6.6453594834991145,
          5.13426800779089,
          6.291903983589314,
          4.091642641962836,
          -0.7205642625072084,
          7.913627220624165,
          0.7043563284564458,
          6.376520569846124,
          5.0595577775159875,
          11.670999859619641,
          3.6673577855027615,
          10.765045848406906,
          3.189462493339594,
          0.5978402896766521,
          0.8946981757353696,
          5.101999132444814,
          0.6037954749573844,
          3.163797963186128,
          0.5231234278714907,
          16.218843811885463,
          3.7976679605169945,
          0.2669906520039831,
          41.82680286740115,
          9.210998339795022,
          -0.02171947413468356,
          5.615520292633101,
          6.961283009621742,
          1.099553599208871,
          0.8095421228116395,
          5.509387182831375,
          9.072744632930739,
          0.7709290320482856,
          2.4151297791072093,
          5.040786897791087,
          3.5478408282913225,
          0.3125815048607885,
          5.546195786850896,
          6.1503863626784625,
          1.6047897278050083,
          0.969188430256094,
          1.2606290076371263,
          5.625563047282902,
          5.854947422782696,
          0.6417054718720552,
          2.4719947744792155,
          -0.1992034534872671,
          6.183873171559578,
          1.012417384405233,
          5.441954558581237,
          -2.8709244280157264,
          1.1472665591958464,
          5.839990571186823,
          4.567462997253809,
          0.9280673887120989,
          6.343679055174645,
          7.67724861635634,
          9.11262410831154,
          6.769926223771212,
          1.0724934244065636,
          2.746403737182715,
          6.968633475584084,
          5.30765320768906,
          -1.2337348004272455,
          5.269881082585547,
          6.226525101925915,
          -0.7086715678986231,
          5.923599353189667,
          5.440059058735504,
          2.7520902367199156,
          7.958217092225538,
          4.009809769674311,
          2.9749554942234555,
          0.5279754811280428,
          -0.8021549851871672,
          0.7280214349200707,
          0.7333966651386605,
          18.21814546014539,
          8.654957578520722,
          3.4160524159554093,
          5.88290404252264,
          2.9466254214197733,
          4.249542705248595,
          5.441954558581237,
          0.784490498939292,
          3.5861751374810207,
          4.398785607956576,
          0.6816524087667384,
          4.024883137396101,
          4.001104474732265,
          6.021220669250442,
          4.160623954788183,
          1.4691339906678158,
          7.346808723245487,
          1.376367549311099,
          0.8280160227660325,
          9.166742536868778,
          4.2694628770236855,
          4.635971540372766,
          0.9580191251796941,
          4.98246644097697,
          3.486180470867602,
          7.186936189832591,
          7.5635186256123275,
          3.506704478839448,
          4.241564269396893,
          3.160275221303772,
          6.303685013361671,
          6.241024231037476,
          1.1035144280846696,
          6.568648882113785,
          4.927695258708158,
          0.8662656780493663,
          9.570233636221168,
          7.426855681730815,
          0.8060340033887305,
          19.76064584010856,
          0.9406002979107855,
          1.0334939848767553,
          4.132895942147506,
          7.515751184930601,
          5.653334364267911,
          5.426422512396653,
          21.23960262375864,
          2.3385802706076526,
          8.603187359262105,
          0.6580009917121563,
          6.902180160716424,
          0.4627224291425063,
          4.4582454013976855,
          3.785328256521269,
          0.2881382251006368,
          2.753720489014738,
          3.8430733368283305,
          1.3615148198638414,
          6.701956409952353,
          5.789650789169459,
          7.471001873137948,
          4.34853352274556,
          4.519764736907843,
          5.4739230596242185,
          4.425847480025177,
          -0.03691186195060503,
          3.7304421358557835,
          2.671764428169902,
          11.986243977603316,
          4.350558226152641,
          2.9418308251698435,
          4.7119032274733,
          4.56789320723666,
          0.6357841514049922,
          6.6812163258749,
          3.7379407603779304,
          0.7048369218434045,
          -0.09769510262333103,
          3.2927257566120365,
          3.3939715400189066,
          3.8052733359185584,
          1.3134627066241857,
          14.991221054191048,
          1.1147175979747392,
          7.4173669192564615,
          7.359879385247232,
          7.266288675907664,
          10.001769675735858,
          3.148659603446882,
          6.696001224671622,
          9.841299374422125,
          14.107226574224313,
          3.1398500289518507,
          4.916716572487705,
          3.8165621780747685,
          0.9360595139728443,
          8.537681521452168,
          0.84131291073622,
          7.256260695614796,
          5.2303368823644405,
          3.334775773543435,
          16.991624374966587,
          0.29525332050565467,
          -0.07905137348460656,
          9.256285660118518,
          0.3315365033181239,
          0.6854150194081532,
          2.9316779070968417,
          4.91918072228716,
          5.837336871402797,
          6.327234771335716,
          4.518151612214684,
          0.6692751342273571,
          7.430646681422281,
          -0.8549461005991477,
          7.136389285370606,
          0.6650456196080263,
          0.8818539972180721,
          0.36740956025278226,
          11.841139925772687,
          6.898463934224046,
          4.1781532549221145,
          1.2260289119109804,
          4.540434274708692,
          3.345374074076704,
          0.6222835694368039,
          8.565446686415783,
          0.5242715966554403,
          5.063746832175059,
          1.3994248167785122
         ],
         "yaxis": "y"
        }
       ],
       "layout": {
        "legend": {
         "title": {
          "text": "variable"
         },
         "tracegroupgap": 0
        },
        "margin": {
         "t": 60
        },
        "template": {
         "data": {
          "bar": [
           {
            "error_x": {
             "color": "#2a3f5f"
            },
            "error_y": {
             "color": "#2a3f5f"
            },
            "marker": {
             "line": {
              "color": "#E5ECF6",
              "width": 0.5
             },
             "pattern": {
              "fillmode": "overlay",
              "size": 10,
              "solidity": 0.2
             }
            },
            "type": "bar"
           }
          ],
          "barpolar": [
           {
            "marker": {
             "line": {
              "color": "#E5ECF6",
              "width": 0.5
             },
             "pattern": {
              "fillmode": "overlay",
              "size": 10,
              "solidity": 0.2
             }
            },
            "type": "barpolar"
           }
          ],
          "carpet": [
           {
            "aaxis": {
             "endlinecolor": "#2a3f5f",
             "gridcolor": "white",
             "linecolor": "white",
             "minorgridcolor": "white",
             "startlinecolor": "#2a3f5f"
            },
            "baxis": {
             "endlinecolor": "#2a3f5f",
             "gridcolor": "white",
             "linecolor": "white",
             "minorgridcolor": "white",
             "startlinecolor": "#2a3f5f"
            },
            "type": "carpet"
           }
          ],
          "choropleth": [
           {
            "colorbar": {
             "outlinewidth": 0,
             "ticks": ""
            },
            "type": "choropleth"
           }
          ],
          "contour": [
           {
            "colorbar": {
             "outlinewidth": 0,
             "ticks": ""
            },
            "colorscale": [
             [
              0,
              "#0d0887"
             ],
             [
              0.1111111111111111,
              "#46039f"
             ],
             [
              0.2222222222222222,
              "#7201a8"
             ],
             [
              0.3333333333333333,
              "#9c179e"
             ],
             [
              0.4444444444444444,
              "#bd3786"
             ],
             [
              0.5555555555555556,
              "#d8576b"
             ],
             [
              0.6666666666666666,
              "#ed7953"
             ],
             [
              0.7777777777777778,
              "#fb9f3a"
             ],
             [
              0.8888888888888888,
              "#fdca26"
             ],
             [
              1,
              "#f0f921"
             ]
            ],
            "type": "contour"
           }
          ],
          "contourcarpet": [
           {
            "colorbar": {
             "outlinewidth": 0,
             "ticks": ""
            },
            "type": "contourcarpet"
           }
          ],
          "heatmap": [
           {
            "colorbar": {
             "outlinewidth": 0,
             "ticks": ""
            },
            "colorscale": [
             [
              0,
              "#0d0887"
             ],
             [
              0.1111111111111111,
              "#46039f"
             ],
             [
              0.2222222222222222,
              "#7201a8"
             ],
             [
              0.3333333333333333,
              "#9c179e"
             ],
             [
              0.4444444444444444,
              "#bd3786"
             ],
             [
              0.5555555555555556,
              "#d8576b"
             ],
             [
              0.6666666666666666,
              "#ed7953"
             ],
             [
              0.7777777777777778,
              "#fb9f3a"
             ],
             [
              0.8888888888888888,
              "#fdca26"
             ],
             [
              1,
              "#f0f921"
             ]
            ],
            "type": "heatmap"
           }
          ],
          "heatmapgl": [
           {
            "colorbar": {
             "outlinewidth": 0,
             "ticks": ""
            },
            "colorscale": [
             [
              0,
              "#0d0887"
             ],
             [
              0.1111111111111111,
              "#46039f"
             ],
             [
              0.2222222222222222,
              "#7201a8"
             ],
             [
              0.3333333333333333,
              "#9c179e"
             ],
             [
              0.4444444444444444,
              "#bd3786"
             ],
             [
              0.5555555555555556,
              "#d8576b"
             ],
             [
              0.6666666666666666,
              "#ed7953"
             ],
             [
              0.7777777777777778,
              "#fb9f3a"
             ],
             [
              0.8888888888888888,
              "#fdca26"
             ],
             [
              1,
              "#f0f921"
             ]
            ],
            "type": "heatmapgl"
           }
          ],
          "histogram": [
           {
            "marker": {
             "pattern": {
              "fillmode": "overlay",
              "size": 10,
              "solidity": 0.2
             }
            },
            "type": "histogram"
           }
          ],
          "histogram2d": [
           {
            "colorbar": {
             "outlinewidth": 0,
             "ticks": ""
            },
            "colorscale": [
             [
              0,
              "#0d0887"
             ],
             [
              0.1111111111111111,
              "#46039f"
             ],
             [
              0.2222222222222222,
              "#7201a8"
             ],
             [
              0.3333333333333333,
              "#9c179e"
             ],
             [
              0.4444444444444444,
              "#bd3786"
             ],
             [
              0.5555555555555556,
              "#d8576b"
             ],
             [
              0.6666666666666666,
              "#ed7953"
             ],
             [
              0.7777777777777778,
              "#fb9f3a"
             ],
             [
              0.8888888888888888,
              "#fdca26"
             ],
             [
              1,
              "#f0f921"
             ]
            ],
            "type": "histogram2d"
           }
          ],
          "histogram2dcontour": [
           {
            "colorbar": {
             "outlinewidth": 0,
             "ticks": ""
            },
            "colorscale": [
             [
              0,
              "#0d0887"
             ],
             [
              0.1111111111111111,
              "#46039f"
             ],
             [
              0.2222222222222222,
              "#7201a8"
             ],
             [
              0.3333333333333333,
              "#9c179e"
             ],
             [
              0.4444444444444444,
              "#bd3786"
             ],
             [
              0.5555555555555556,
              "#d8576b"
             ],
             [
              0.6666666666666666,
              "#ed7953"
             ],
             [
              0.7777777777777778,
              "#fb9f3a"
             ],
             [
              0.8888888888888888,
              "#fdca26"
             ],
             [
              1,
              "#f0f921"
             ]
            ],
            "type": "histogram2dcontour"
           }
          ],
          "mesh3d": [
           {
            "colorbar": {
             "outlinewidth": 0,
             "ticks": ""
            },
            "type": "mesh3d"
           }
          ],
          "parcoords": [
           {
            "line": {
             "colorbar": {
              "outlinewidth": 0,
              "ticks": ""
             }
            },
            "type": "parcoords"
           }
          ],
          "pie": [
           {
            "automargin": true,
            "type": "pie"
           }
          ],
          "scatter": [
           {
            "fillpattern": {
             "fillmode": "overlay",
             "size": 10,
             "solidity": 0.2
            },
            "type": "scatter"
           }
          ],
          "scatter3d": [
           {
            "line": {
             "colorbar": {
              "outlinewidth": 0,
              "ticks": ""
             }
            },
            "marker": {
             "colorbar": {
              "outlinewidth": 0,
              "ticks": ""
             }
            },
            "type": "scatter3d"
           }
          ],
          "scattercarpet": [
           {
            "marker": {
             "colorbar": {
              "outlinewidth": 0,
              "ticks": ""
             }
            },
            "type": "scattercarpet"
           }
          ],
          "scattergeo": [
           {
            "marker": {
             "colorbar": {
              "outlinewidth": 0,
              "ticks": ""
             }
            },
            "type": "scattergeo"
           }
          ],
          "scattergl": [
           {
            "marker": {
             "colorbar": {
              "outlinewidth": 0,
              "ticks": ""
             }
            },
            "type": "scattergl"
           }
          ],
          "scattermapbox": [
           {
            "marker": {
             "colorbar": {
              "outlinewidth": 0,
              "ticks": ""
             }
            },
            "type": "scattermapbox"
           }
          ],
          "scatterpolar": [
           {
            "marker": {
             "colorbar": {
              "outlinewidth": 0,
              "ticks": ""
             }
            },
            "type": "scatterpolar"
           }
          ],
          "scatterpolargl": [
           {
            "marker": {
             "colorbar": {
              "outlinewidth": 0,
              "ticks": ""
             }
            },
            "type": "scatterpolargl"
           }
          ],
          "scatterternary": [
           {
            "marker": {
             "colorbar": {
              "outlinewidth": 0,
              "ticks": ""
             }
            },
            "type": "scatterternary"
           }
          ],
          "surface": [
           {
            "colorbar": {
             "outlinewidth": 0,
             "ticks": ""
            },
            "colorscale": [
             [
              0,
              "#0d0887"
             ],
             [
              0.1111111111111111,
              "#46039f"
             ],
             [
              0.2222222222222222,
              "#7201a8"
             ],
             [
              0.3333333333333333,
              "#9c179e"
             ],
             [
              0.4444444444444444,
              "#bd3786"
             ],
             [
              0.5555555555555556,
              "#d8576b"
             ],
             [
              0.6666666666666666,
              "#ed7953"
             ],
             [
              0.7777777777777778,
              "#fb9f3a"
             ],
             [
              0.8888888888888888,
              "#fdca26"
             ],
             [
              1,
              "#f0f921"
             ]
            ],
            "type": "surface"
           }
          ],
          "table": [
           {
            "cells": {
             "fill": {
              "color": "#EBF0F8"
             },
             "line": {
              "color": "white"
             }
            },
            "header": {
             "fill": {
              "color": "#C8D4E3"
             },
             "line": {
              "color": "white"
             }
            },
            "type": "table"
           }
          ]
         },
         "layout": {
          "annotationdefaults": {
           "arrowcolor": "#2a3f5f",
           "arrowhead": 0,
           "arrowwidth": 1
          },
          "autotypenumbers": "strict",
          "coloraxis": {
           "colorbar": {
            "outlinewidth": 0,
            "ticks": ""
           }
          },
          "colorscale": {
           "diverging": [
            [
             0,
             "#8e0152"
            ],
            [
             0.1,
             "#c51b7d"
            ],
            [
             0.2,
             "#de77ae"
            ],
            [
             0.3,
             "#f1b6da"
            ],
            [
             0.4,
             "#fde0ef"
            ],
            [
             0.5,
             "#f7f7f7"
            ],
            [
             0.6,
             "#e6f5d0"
            ],
            [
             0.7,
             "#b8e186"
            ],
            [
             0.8,
             "#7fbc41"
            ],
            [
             0.9,
             "#4d9221"
            ],
            [
             1,
             "#276419"
            ]
           ],
           "sequential": [
            [
             0,
             "#0d0887"
            ],
            [
             0.1111111111111111,
             "#46039f"
            ],
            [
             0.2222222222222222,
             "#7201a8"
            ],
            [
             0.3333333333333333,
             "#9c179e"
            ],
            [
             0.4444444444444444,
             "#bd3786"
            ],
            [
             0.5555555555555556,
             "#d8576b"
            ],
            [
             0.6666666666666666,
             "#ed7953"
            ],
            [
             0.7777777777777778,
             "#fb9f3a"
            ],
            [
             0.8888888888888888,
             "#fdca26"
            ],
            [
             1,
             "#f0f921"
            ]
           ],
           "sequentialminus": [
            [
             0,
             "#0d0887"
            ],
            [
             0.1111111111111111,
             "#46039f"
            ],
            [
             0.2222222222222222,
             "#7201a8"
            ],
            [
             0.3333333333333333,
             "#9c179e"
            ],
            [
             0.4444444444444444,
             "#bd3786"
            ],
            [
             0.5555555555555556,
             "#d8576b"
            ],
            [
             0.6666666666666666,
             "#ed7953"
            ],
            [
             0.7777777777777778,
             "#fb9f3a"
            ],
            [
             0.8888888888888888,
             "#fdca26"
            ],
            [
             1,
             "#f0f921"
            ]
           ]
          },
          "colorway": [
           "#636efa",
           "#EF553B",
           "#00cc96",
           "#ab63fa",
           "#FFA15A",
           "#19d3f3",
           "#FF6692",
           "#B6E880",
           "#FF97FF",
           "#FECB52"
          ],
          "font": {
           "color": "#2a3f5f"
          },
          "geo": {
           "bgcolor": "white",
           "lakecolor": "white",
           "landcolor": "#E5ECF6",
           "showlakes": true,
           "showland": true,
           "subunitcolor": "white"
          },
          "hoverlabel": {
           "align": "left"
          },
          "hovermode": "closest",
          "mapbox": {
           "style": "light"
          },
          "paper_bgcolor": "white",
          "plot_bgcolor": "#E5ECF6",
          "polar": {
           "angularaxis": {
            "gridcolor": "white",
            "linecolor": "white",
            "ticks": ""
           },
           "bgcolor": "#E5ECF6",
           "radialaxis": {
            "gridcolor": "white",
            "linecolor": "white",
            "ticks": ""
           }
          },
          "scene": {
           "xaxis": {
            "backgroundcolor": "#E5ECF6",
            "gridcolor": "white",
            "gridwidth": 2,
            "linecolor": "white",
            "showbackground": true,
            "ticks": "",
            "zerolinecolor": "white"
           },
           "yaxis": {
            "backgroundcolor": "#E5ECF6",
            "gridcolor": "white",
            "gridwidth": 2,
            "linecolor": "white",
            "showbackground": true,
            "ticks": "",
            "zerolinecolor": "white"
           },
           "zaxis": {
            "backgroundcolor": "#E5ECF6",
            "gridcolor": "white",
            "gridwidth": 2,
            "linecolor": "white",
            "showbackground": true,
            "ticks": "",
            "zerolinecolor": "white"
           }
          },
          "shapedefaults": {
           "line": {
            "color": "#2a3f5f"
           }
          },
          "ternary": {
           "aaxis": {
            "gridcolor": "white",
            "linecolor": "white",
            "ticks": ""
           },
           "baxis": {
            "gridcolor": "white",
            "linecolor": "white",
            "ticks": ""
           },
           "bgcolor": "#E5ECF6",
           "caxis": {
            "gridcolor": "white",
            "linecolor": "white",
            "ticks": ""
           }
          },
          "title": {
           "x": 0.05
          },
          "xaxis": {
           "automargin": true,
           "gridcolor": "white",
           "linecolor": "white",
           "ticks": "",
           "title": {
            "standoff": 15
           },
           "zerolinecolor": "white",
           "zerolinewidth": 2
          },
          "yaxis": {
           "automargin": true,
           "gridcolor": "white",
           "linecolor": "white",
           "ticks": "",
           "title": {
            "standoff": 15
           },
           "zerolinecolor": "white",
           "zerolinewidth": 2
          }
         }
        },
        "xaxis": {
         "anchor": "y",
         "domain": [
          0,
          1
         ],
         "title": {
          "text": "index"
         }
        },
        "yaxis": {
         "anchor": "x",
         "domain": [
          0,
          1
         ],
         "title": {
          "text": "Selling-Prediction"
         }
        }
       }
      },
      "text/html": [
       "<div>                            <div id=\"39714427-ada0-4834-9484-ef2541eacb27\" class=\"plotly-graph-div\" style=\"height:525px; width:100%;\"></div>            <script type=\"text/javascript\">                require([\"plotly\"], function(Plotly) {                    window.PLOTLYENV=window.PLOTLYENV || {};                                    if (document.getElementById(\"39714427-ada0-4834-9484-ef2541eacb27\")) {                    Plotly.newPlot(                        \"39714427-ada0-4834-9484-ef2541eacb27\",                        [{\"hovertemplate\":\"variable=y_train<br>index=%{x}<br>Selling-Prediction=%{y}<extra></extra>\",\"legendgroup\":\"y_train\",\"line\":{\"color\":\"#636efa\",\"dash\":\"solid\"},\"marker\":{\"symbol\":\"circle\"},\"mode\":\"lines\",\"name\":\"y_train\",\"orientation\":\"v\",\"showlegend\":true,\"x\":[184,132,194,75,111,59,93,6,175,30,22,286,56,239,113,129,232,195,277,280,213,84,66,203,165,119,19,181,79,114,185,72,15,10,196,298,68,226,37,16,125,287,271,67,225,69,31,176,152,263,143,18,183,96,236,148,86,250,147,293,256,126,139,208,55,146,186,249,38,197,233,209,112,170,117,278,272,157,178,180,2,115,247,179,120,231,261,127,74,29,83,245,107,155,283,254,192,218,65,200,85,215,159,12,35,28,142,193,131,172,51,95,210,222,41,89,219,136,26,294,141,202,0,269,273,100,260,103,171,98,36,61,150,238,204,244,11,297,268,27,221,4,122,32,206,162,211,258,138,62,135,128,291,8,70,265,64,44,237,156,40,123,284,216,153,23,262,110,81,207,212,39,242,292,259,199,14,47,94,264,227,274,201,161,43,217,145,190,220,255,3,105,53,133,253,1,49,80,205,34,91,52,241,13,88,166,295,134,288,243,54,50,174,189,299,187,169,58,48,235,252,21,160,276,191,257,149,130,151,99,87,214,121,300,20,188,71,106,270,102],\"xaxis\":\"x\",\"y\":[0.25,0.75,0.2,3.95,1.15,19.99,23.0,6.75,0.38,3.1,4.4,5.65,4.5,2.0,1.15,0.78,11.45,0.18,9.7,5.25,2.9,3.49,19.75,2.95,0.45,1.05,2.65,0.3,14.5,1.15,0.25,7.45,7.75,2.85,0.17,3.35,4.35,5.25,0.35,7.25,0.9,5.75,3.0,9.25,2.7,14.25,2.35,0.35,0.5,6.6,0.6,3.25,0.27,20.75,3.1,0.52,35.0,12.9,0.55,3.25,10.25,0.9,0.6,7.9,3.6,0.55,0.25,5.25,3.0,0.16,3.9,4.85,1.15,0.4,1.1,6.0,7.5,0.48,0.35,0.3,7.25,1.11,5.95,0.31,1.05,9.25,5.5,0.75,4.9,7.45,12.5,5.2,1.25,0.48,8.99,5.25,0.2,6.45,4.75,0.1,2.5,4.5,0.45,7.5,2.95,1.95,0.6,0.2,0.75,0.4,23.0,5.85,3.1,6.0,2.55,4.75,4.5,0.65,4.15,3.75,0.6,4.4,3.35,6.7,2.25,1.75,9.15,1.45,0.4,7.05,4.65,4.5,0.5,4.8,2.75,5.95,6.85,4.0,4.8,6.0,4.5,4.6,1.05,4.95,5.75,0.45,11.75,8.4,0.6,18.75,0.65,0.8,5.4,8.75,3.95,6.5,33.0,1.25,11.25,0.48,5.85,1.0,3.5,2.9,0.5,2.5,4.0,1.2,4.75,5.15,11.25,2.25,4.4,6.4,3.9,0.12,2.25,1.05,4.0,4.0,2.55,5.3,3.25,0.45,5.5,3.15,0.6,0.2,3.5,3.0,2.85,1.35,16.0,0.72,7.2,4.75,7.75,14.73,5.25,5.5,11.25,18.0,4.75,6.1,3.45,0.45,8.55,0.65,8.4,6.25,2.75,14.9,0.38,0.2,11.5,0.25,0.4,4.1,5.8,9.1,5.4,4.9,0.45,8.65,0.2,8.5,0.51,0.75,0.5,9.65,5.9,5.25,1.05,5.3,2.85,0.25,4.5,1.35,4.1,1.65],\"yaxis\":\"y\",\"type\":\"scatter\"},{\"hovertemplate\":\"variable=y_pred<br>index=%{x}<br>Selling-Prediction=%{y}<extra></extra>\",\"legendgroup\":\"y_pred\",\"line\":{\"color\":\"#EF553B\",\"dash\":\"solid\"},\"marker\":{\"symbol\":\"circle\"},\"mode\":\"lines\",\"name\":\"y_pred\",\"orientation\":\"v\",\"showlegend\":true,\"x\":[184,132,194,75,111,59,93,6,175,30,22,286,56,239,113,129,232,195,277,280,213,84,66,203,165,119,19,181,79,114,185,72,15,10,196,298,68,226,37,16,125,287,271,67,225,69,31,176,152,263,143,18,183,96,236,148,86,250,147,293,256,126,139,208,55,146,186,249,38,197,233,209,112,170,117,278,272,157,178,180,2,115,247,179,120,231,261,127,74,29,83,245,107,155,283,254,192,218,65,200,85,215,159,12,35,28,142,193,131,172,51,95,210,222,41,89,219,136,26,294,141,202,0,269,273,100,260,103,171,98,36,61,150,238,204,244,11,297,268,27,221,4,122,32,206,162,211,258,138,62,135,128,291,8,70,265,64,44,237,156,40,123,284,216,153,23,262,110,81,207,212,39,242,292,259,199,14,47,94,264,227,274,201,161,43,217,145,190,220,255,3,105,53,133,253,1,49,80,205,34,91,52,241,13,88,166,295,134,288,243,54,50,174,189,299,187,169,58,48,235,252,21,160,276,191,257,149,130,151,99,87,214,121,300,20,188,71,106,270,102],\"xaxis\":\"x\",\"y\":[-0.797769835908531,1.057852602602733,0.10750408604154682,4.342280757555259,1.1919099146877765,20.461980783029976,18.21814546014539,5.226678480766908,-0.3663708753918389,5.694210948784056,6.478495824687977,4.948381959218095,4.4551259816582425,3.5728616788129965,0.6510983090665485,0.9828954441040925,10.049337179361324,0.1943107301788345,7.487890776763433,4.369820333594216,4.4213774161543755,6.095443273866718,13.621225898190712,3.0808332682374324,2.8311212751785817,1.4236419943702108,4.738210381031461,-0.022342012771905395,17.289350535735952,1.0218948836339008,2.8215023358156346,8.958218598839633,7.8885687126635675,3.6307471021271036,-6.6453594834991145,5.13426800779089,6.291903983589314,4.091642641962836,-0.7205642625072084,7.913627220624165,0.7043563284564458,6.376520569846124,5.0595577775159875,11.670999859619641,3.6673577855027615,10.765045848406906,3.189462493339594,0.5978402896766521,0.8946981757353696,5.101999132444814,0.6037954749573844,3.163797963186128,0.5231234278714907,16.218843811885463,3.7976679605169945,0.2669906520039831,41.82680286740115,9.210998339795022,-0.02171947413468356,5.615520292633101,6.961283009621742,1.099553599208871,0.8095421228116395,5.509387182831375,9.072744632930739,0.7709290320482856,2.4151297791072093,5.040786897791087,3.5478408282913225,0.3125815048607885,5.546195786850896,6.1503863626784625,1.6047897278050083,0.969188430256094,1.2606290076371263,5.625563047282902,5.854947422782696,0.6417054718720552,2.4719947744792155,-0.1992034534872671,6.183873171559578,1.012417384405233,5.441954558581237,-2.8709244280157264,1.1472665591958464,5.839990571186823,4.567462997253809,0.9280673887120989,6.343679055174645,7.67724861635634,9.11262410831154,6.769926223771212,1.0724934244065636,2.746403737182715,6.968633475584084,5.30765320768906,-1.2337348004272455,5.269881082585547,6.226525101925915,-0.7086715678986231,5.923599353189667,5.440059058735504,2.7520902367199156,7.958217092225538,4.009809769674311,2.9749554942234555,0.5279754811280428,-0.8021549851871672,0.7280214349200707,0.7333966651386605,18.21814546014539,8.654957578520722,3.4160524159554093,5.88290404252264,2.9466254214197733,4.249542705248595,5.441954558581237,0.784490498939292,3.5861751374810207,4.398785607956576,0.6816524087667384,4.024883137396101,4.001104474732265,6.021220669250442,4.160623954788183,1.4691339906678158,7.346808723245487,1.376367549311099,0.8280160227660325,9.166742536868778,4.2694628770236855,4.635971540372766,0.9580191251796941,4.98246644097697,3.486180470867602,7.186936189832591,7.5635186256123275,3.506704478839448,4.241564269396893,3.160275221303772,6.303685013361671,6.241024231037476,1.1035144280846696,6.568648882113785,4.927695258708158,0.8662656780493663,9.570233636221168,7.426855681730815,0.8060340033887305,19.76064584010856,0.9406002979107855,1.0334939848767553,4.132895942147506,7.515751184930601,5.653334364267911,5.426422512396653,21.23960262375864,2.3385802706076526,8.603187359262105,0.6580009917121563,6.902180160716424,0.4627224291425063,4.4582454013976855,3.785328256521269,0.2881382251006368,2.753720489014738,3.8430733368283305,1.3615148198638414,6.701956409952353,5.789650789169459,7.471001873137948,4.34853352274556,4.519764736907843,5.4739230596242185,4.425847480025177,-0.03691186195060503,3.7304421358557835,2.671764428169902,11.986243977603316,4.350558226152641,2.9418308251698435,4.7119032274733,4.56789320723666,0.6357841514049922,6.6812163258749,3.7379407603779304,0.7048369218434045,-0.09769510262333103,3.2927257566120365,3.3939715400189066,3.8052733359185584,1.3134627066241857,14.991221054191048,1.1147175979747392,7.4173669192564615,7.359879385247232,7.266288675907664,10.001769675735858,3.148659603446882,6.696001224671622,9.841299374422125,14.107226574224313,3.1398500289518507,4.916716572487705,3.8165621780747685,0.9360595139728443,8.537681521452168,0.84131291073622,7.256260695614796,5.2303368823644405,3.334775773543435,16.991624374966587,0.29525332050565467,-0.07905137348460656,9.256285660118518,0.3315365033181239,0.6854150194081532,2.9316779070968417,4.91918072228716,5.837336871402797,6.327234771335716,4.518151612214684,0.6692751342273571,7.430646681422281,-0.8549461005991477,7.136389285370606,0.6650456196080263,0.8818539972180721,0.36740956025278226,11.841139925772687,6.898463934224046,4.1781532549221145,1.2260289119109804,4.540434274708692,3.345374074076704,0.6222835694368039,8.565446686415783,0.5242715966554403,5.063746832175059,1.3994248167785122],\"yaxis\":\"y\",\"type\":\"scatter\"}],                        {\"template\":{\"data\":{\"histogram2dcontour\":[{\"type\":\"histogram2dcontour\",\"colorbar\":{\"outlinewidth\":0,\"ticks\":\"\"},\"colorscale\":[[0.0,\"#0d0887\"],[0.1111111111111111,\"#46039f\"],[0.2222222222222222,\"#7201a8\"],[0.3333333333333333,\"#9c179e\"],[0.4444444444444444,\"#bd3786\"],[0.5555555555555556,\"#d8576b\"],[0.6666666666666666,\"#ed7953\"],[0.7777777777777778,\"#fb9f3a\"],[0.8888888888888888,\"#fdca26\"],[1.0,\"#f0f921\"]]}],\"choropleth\":[{\"type\":\"choropleth\",\"colorbar\":{\"outlinewidth\":0,\"ticks\":\"\"}}],\"histogram2d\":[{\"type\":\"histogram2d\",\"colorbar\":{\"outlinewidth\":0,\"ticks\":\"\"},\"colorscale\":[[0.0,\"#0d0887\"],[0.1111111111111111,\"#46039f\"],[0.2222222222222222,\"#7201a8\"],[0.3333333333333333,\"#9c179e\"],[0.4444444444444444,\"#bd3786\"],[0.5555555555555556,\"#d8576b\"],[0.6666666666666666,\"#ed7953\"],[0.7777777777777778,\"#fb9f3a\"],[0.8888888888888888,\"#fdca26\"],[1.0,\"#f0f921\"]]}],\"heatmap\":[{\"type\":\"heatmap\",\"colorbar\":{\"outlinewidth\":0,\"ticks\":\"\"},\"colorscale\":[[0.0,\"#0d0887\"],[0.1111111111111111,\"#46039f\"],[0.2222222222222222,\"#7201a8\"],[0.3333333333333333,\"#9c179e\"],[0.4444444444444444,\"#bd3786\"],[0.5555555555555556,\"#d8576b\"],[0.6666666666666666,\"#ed7953\"],[0.7777777777777778,\"#fb9f3a\"],[0.8888888888888888,\"#fdca26\"],[1.0,\"#f0f921\"]]}],\"heatmapgl\":[{\"type\":\"heatmapgl\",\"colorbar\":{\"outlinewidth\":0,\"ticks\":\"\"},\"colorscale\":[[0.0,\"#0d0887\"],[0.1111111111111111,\"#46039f\"],[0.2222222222222222,\"#7201a8\"],[0.3333333333333333,\"#9c179e\"],[0.4444444444444444,\"#bd3786\"],[0.5555555555555556,\"#d8576b\"],[0.6666666666666666,\"#ed7953\"],[0.7777777777777778,\"#fb9f3a\"],[0.8888888888888888,\"#fdca26\"],[1.0,\"#f0f921\"]]}],\"contourcarpet\":[{\"type\":\"contourcarpet\",\"colorbar\":{\"outlinewidth\":0,\"ticks\":\"\"}}],\"contour\":[{\"type\":\"contour\",\"colorbar\":{\"outlinewidth\":0,\"ticks\":\"\"},\"colorscale\":[[0.0,\"#0d0887\"],[0.1111111111111111,\"#46039f\"],[0.2222222222222222,\"#7201a8\"],[0.3333333333333333,\"#9c179e\"],[0.4444444444444444,\"#bd3786\"],[0.5555555555555556,\"#d8576b\"],[0.6666666666666666,\"#ed7953\"],[0.7777777777777778,\"#fb9f3a\"],[0.8888888888888888,\"#fdca26\"],[1.0,\"#f0f921\"]]}],\"surface\":[{\"type\":\"surface\",\"colorbar\":{\"outlinewidth\":0,\"ticks\":\"\"},\"colorscale\":[[0.0,\"#0d0887\"],[0.1111111111111111,\"#46039f\"],[0.2222222222222222,\"#7201a8\"],[0.3333333333333333,\"#9c179e\"],[0.4444444444444444,\"#bd3786\"],[0.5555555555555556,\"#d8576b\"],[0.6666666666666666,\"#ed7953\"],[0.7777777777777778,\"#fb9f3a\"],[0.8888888888888888,\"#fdca26\"],[1.0,\"#f0f921\"]]}],\"mesh3d\":[{\"type\":\"mesh3d\",\"colorbar\":{\"outlinewidth\":0,\"ticks\":\"\"}}],\"scatter\":[{\"fillpattern\":{\"fillmode\":\"overlay\",\"size\":10,\"solidity\":0.2},\"type\":\"scatter\"}],\"parcoords\":[{\"type\":\"parcoords\",\"line\":{\"colorbar\":{\"outlinewidth\":0,\"ticks\":\"\"}}}],\"scatterpolargl\":[{\"type\":\"scatterpolargl\",\"marker\":{\"colorbar\":{\"outlinewidth\":0,\"ticks\":\"\"}}}],\"bar\":[{\"error_x\":{\"color\":\"#2a3f5f\"},\"error_y\":{\"color\":\"#2a3f5f\"},\"marker\":{\"line\":{\"color\":\"#E5ECF6\",\"width\":0.5},\"pattern\":{\"fillmode\":\"overlay\",\"size\":10,\"solidity\":0.2}},\"type\":\"bar\"}],\"scattergeo\":[{\"type\":\"scattergeo\",\"marker\":{\"colorbar\":{\"outlinewidth\":0,\"ticks\":\"\"}}}],\"scatterpolar\":[{\"type\":\"scatterpolar\",\"marker\":{\"colorbar\":{\"outlinewidth\":0,\"ticks\":\"\"}}}],\"histogram\":[{\"marker\":{\"pattern\":{\"fillmode\":\"overlay\",\"size\":10,\"solidity\":0.2}},\"type\":\"histogram\"}],\"scattergl\":[{\"type\":\"scattergl\",\"marker\":{\"colorbar\":{\"outlinewidth\":0,\"ticks\":\"\"}}}],\"scatter3d\":[{\"type\":\"scatter3d\",\"line\":{\"colorbar\":{\"outlinewidth\":0,\"ticks\":\"\"}},\"marker\":{\"colorbar\":{\"outlinewidth\":0,\"ticks\":\"\"}}}],\"scattermapbox\":[{\"type\":\"scattermapbox\",\"marker\":{\"colorbar\":{\"outlinewidth\":0,\"ticks\":\"\"}}}],\"scatterternary\":[{\"type\":\"scatterternary\",\"marker\":{\"colorbar\":{\"outlinewidth\":0,\"ticks\":\"\"}}}],\"scattercarpet\":[{\"type\":\"scattercarpet\",\"marker\":{\"colorbar\":{\"outlinewidth\":0,\"ticks\":\"\"}}}],\"carpet\":[{\"aaxis\":{\"endlinecolor\":\"#2a3f5f\",\"gridcolor\":\"white\",\"linecolor\":\"white\",\"minorgridcolor\":\"white\",\"startlinecolor\":\"#2a3f5f\"},\"baxis\":{\"endlinecolor\":\"#2a3f5f\",\"gridcolor\":\"white\",\"linecolor\":\"white\",\"minorgridcolor\":\"white\",\"startlinecolor\":\"#2a3f5f\"},\"type\":\"carpet\"}],\"table\":[{\"cells\":{\"fill\":{\"color\":\"#EBF0F8\"},\"line\":{\"color\":\"white\"}},\"header\":{\"fill\":{\"color\":\"#C8D4E3\"},\"line\":{\"color\":\"white\"}},\"type\":\"table\"}],\"barpolar\":[{\"marker\":{\"line\":{\"color\":\"#E5ECF6\",\"width\":0.5},\"pattern\":{\"fillmode\":\"overlay\",\"size\":10,\"solidity\":0.2}},\"type\":\"barpolar\"}],\"pie\":[{\"automargin\":true,\"type\":\"pie\"}]},\"layout\":{\"autotypenumbers\":\"strict\",\"colorway\":[\"#636efa\",\"#EF553B\",\"#00cc96\",\"#ab63fa\",\"#FFA15A\",\"#19d3f3\",\"#FF6692\",\"#B6E880\",\"#FF97FF\",\"#FECB52\"],\"font\":{\"color\":\"#2a3f5f\"},\"hovermode\":\"closest\",\"hoverlabel\":{\"align\":\"left\"},\"paper_bgcolor\":\"white\",\"plot_bgcolor\":\"#E5ECF6\",\"polar\":{\"bgcolor\":\"#E5ECF6\",\"angularaxis\":{\"gridcolor\":\"white\",\"linecolor\":\"white\",\"ticks\":\"\"},\"radialaxis\":{\"gridcolor\":\"white\",\"linecolor\":\"white\",\"ticks\":\"\"}},\"ternary\":{\"bgcolor\":\"#E5ECF6\",\"aaxis\":{\"gridcolor\":\"white\",\"linecolor\":\"white\",\"ticks\":\"\"},\"baxis\":{\"gridcolor\":\"white\",\"linecolor\":\"white\",\"ticks\":\"\"},\"caxis\":{\"gridcolor\":\"white\",\"linecolor\":\"white\",\"ticks\":\"\"}},\"coloraxis\":{\"colorbar\":{\"outlinewidth\":0,\"ticks\":\"\"}},\"colorscale\":{\"sequential\":[[0.0,\"#0d0887\"],[0.1111111111111111,\"#46039f\"],[0.2222222222222222,\"#7201a8\"],[0.3333333333333333,\"#9c179e\"],[0.4444444444444444,\"#bd3786\"],[0.5555555555555556,\"#d8576b\"],[0.6666666666666666,\"#ed7953\"],[0.7777777777777778,\"#fb9f3a\"],[0.8888888888888888,\"#fdca26\"],[1.0,\"#f0f921\"]],\"sequentialminus\":[[0.0,\"#0d0887\"],[0.1111111111111111,\"#46039f\"],[0.2222222222222222,\"#7201a8\"],[0.3333333333333333,\"#9c179e\"],[0.4444444444444444,\"#bd3786\"],[0.5555555555555556,\"#d8576b\"],[0.6666666666666666,\"#ed7953\"],[0.7777777777777778,\"#fb9f3a\"],[0.8888888888888888,\"#fdca26\"],[1.0,\"#f0f921\"]],\"diverging\":[[0,\"#8e0152\"],[0.1,\"#c51b7d\"],[0.2,\"#de77ae\"],[0.3,\"#f1b6da\"],[0.4,\"#fde0ef\"],[0.5,\"#f7f7f7\"],[0.6,\"#e6f5d0\"],[0.7,\"#b8e186\"],[0.8,\"#7fbc41\"],[0.9,\"#4d9221\"],[1,\"#276419\"]]},\"xaxis\":{\"gridcolor\":\"white\",\"linecolor\":\"white\",\"ticks\":\"\",\"title\":{\"standoff\":15},\"zerolinecolor\":\"white\",\"automargin\":true,\"zerolinewidth\":2},\"yaxis\":{\"gridcolor\":\"white\",\"linecolor\":\"white\",\"ticks\":\"\",\"title\":{\"standoff\":15},\"zerolinecolor\":\"white\",\"automargin\":true,\"zerolinewidth\":2},\"scene\":{\"xaxis\":{\"backgroundcolor\":\"#E5ECF6\",\"gridcolor\":\"white\",\"linecolor\":\"white\",\"showbackground\":true,\"ticks\":\"\",\"zerolinecolor\":\"white\",\"gridwidth\":2},\"yaxis\":{\"backgroundcolor\":\"#E5ECF6\",\"gridcolor\":\"white\",\"linecolor\":\"white\",\"showbackground\":true,\"ticks\":\"\",\"zerolinecolor\":\"white\",\"gridwidth\":2},\"zaxis\":{\"backgroundcolor\":\"#E5ECF6\",\"gridcolor\":\"white\",\"linecolor\":\"white\",\"showbackground\":true,\"ticks\":\"\",\"zerolinecolor\":\"white\",\"gridwidth\":2}},\"shapedefaults\":{\"line\":{\"color\":\"#2a3f5f\"}},\"annotationdefaults\":{\"arrowcolor\":\"#2a3f5f\",\"arrowhead\":0,\"arrowwidth\":1},\"geo\":{\"bgcolor\":\"white\",\"landcolor\":\"#E5ECF6\",\"subunitcolor\":\"white\",\"showland\":true,\"showlakes\":true,\"lakecolor\":\"white\"},\"title\":{\"x\":0.05},\"mapbox\":{\"style\":\"light\"}}},\"xaxis\":{\"anchor\":\"y\",\"domain\":[0.0,1.0],\"title\":{\"text\":\"index\"}},\"yaxis\":{\"anchor\":\"x\",\"domain\":[0.0,1.0],\"title\":{\"text\":\"Selling-Prediction\"}},\"legend\":{\"title\":{\"text\":\"variable\"},\"tracegroupgap\":0},\"margin\":{\"t\":60}},                        {\"responsive\": true}                    ).then(function(){\n",
       "                            \n",
       "var gd = document.getElementById('39714427-ada0-4834-9484-ef2541eacb27');\n",
       "var x = new MutationObserver(function (mutations, observer) {{\n",
       "        var display = window.getComputedStyle(gd).display;\n",
       "        if (!display || display === 'none') {{\n",
       "            console.log([gd, 'removed!']);\n",
       "            Plotly.purge(gd);\n",
       "            observer.disconnect();\n",
       "        }}\n",
       "}});\n",
       "\n",
       "// Listen for the removal of the full notebook cells\n",
       "var notebookContainer = gd.closest('#notebook-container');\n",
       "if (notebookContainer) {{\n",
       "    x.observe(notebookContainer, {childList: true});\n",
       "}}\n",
       "\n",
       "// Listen for the clearing of the current output cell\n",
       "var outputEl = gd.closest('.output');\n",
       "if (outputEl) {{\n",
       "    x.observe(outputEl, {childList: true});\n",
       "}}\n",
       "\n",
       "                        })                };                });            </script>        </div>"
      ]
     },
     "metadata": {},
     "output_type": "display_data"
    }
   ],
   "source": [
    "fig = px.line(df_pred_train , labels = {\"value\" : \"Selling-Prediction\"} )\n",
    "fig.show()"
   ]
  },
  {
   "cell_type": "markdown",
   "id": "b482376b",
   "metadata": {},
   "source": [
    "# Communicate Results"
   ]
  },
  {
   "cell_type": "code",
   "execution_count": 207,
   "id": "e0b4836f",
   "metadata": {},
   "outputs": [
    {
     "name": "stdout",
     "output_type": "stream",
     "text": [
      "coefficients len: 10\n",
      "[ 0. -0. -1.  1. -1.]\n"
     ]
    }
   ],
   "source": [
    "intercept = model.named_steps[\"ridge\"].intercept_.round()\n",
    "coefficients =  model.named_steps[\"ridge\"].coef_.round()\n",
    "print(\"coefficients len:\", len(coefficients))\n",
    "print(coefficients[:5])  # First five coefficients"
   ]
  },
  {
   "cell_type": "code",
   "execution_count": null,
   "id": "1422f141",
   "metadata": {},
   "outputs": [],
   "source": []
  }
 ],
 "metadata": {
  "kernelspec": {
   "display_name": "Python 3 (ipykernel)",
   "language": "python",
   "name": "python3"
  },
  "language_info": {
   "codemirror_mode": {
    "name": "ipython",
    "version": 3
   },
   "file_extension": ".py",
   "mimetype": "text/x-python",
   "name": "python",
   "nbconvert_exporter": "python",
   "pygments_lexer": "ipython3",
   "version": "3.9.7"
  }
 },
 "nbformat": 4,
 "nbformat_minor": 5
}
